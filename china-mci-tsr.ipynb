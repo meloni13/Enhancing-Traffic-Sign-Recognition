{
 "cells": [
  {
   "cell_type": "code",
   "execution_count": 1,
   "id": "ffaf00c6",
   "metadata": {
    "execution": {
     "iopub.execute_input": "2024-06-06T20:48:06.364353Z",
     "iopub.status.busy": "2024-06-06T20:48:06.363510Z",
     "iopub.status.idle": "2024-06-06T20:48:19.080206Z",
     "shell.execute_reply": "2024-06-06T20:48:19.079134Z"
    },
    "papermill": {
     "duration": 12.739341,
     "end_time": "2024-06-06T20:48:19.082887",
     "exception": false,
     "start_time": "2024-06-06T20:48:06.343546",
     "status": "completed"
    },
    "tags": []
   },
   "outputs": [
    {
     "name": "stdout",
     "output_type": "stream",
     "text": [
      "Collecting imagecorruptions\r\n",
      "  Downloading imagecorruptions-1.1.2-py3-none-any.whl (2.1 MB)\r\n",
      "\u001b[2K     \u001b[90m━━━━━━━━━━━━━━━━━━━━━━━━━━━━━━━━━━━━━━━━\u001b[0m \u001b[32m2.1/2.1 MB\u001b[0m \u001b[31m34.1 MB/s\u001b[0m eta \u001b[36m0:00:00\u001b[0m\r\n",
      "\u001b[?25hRequirement already satisfied: opencv-python>=3.4.5 in /opt/conda/lib/python3.7/site-packages (from imagecorruptions) (4.5.4.60)\r\n",
      "Requirement already satisfied: Pillow>=5.4.1 in /opt/conda/lib/python3.7/site-packages (from imagecorruptions) (9.4.0)\r\n",
      "Requirement already satisfied: numpy>=1.16 in /opt/conda/lib/python3.7/site-packages (from imagecorruptions) (1.21.6)\r\n",
      "Requirement already satisfied: scikit-image>=0.15 in /opt/conda/lib/python3.7/site-packages (from imagecorruptions) (0.19.3)\r\n",
      "Requirement already satisfied: scipy>=1.2.1 in /opt/conda/lib/python3.7/site-packages (from imagecorruptions) (1.7.3)\r\n",
      "Requirement already satisfied: packaging>=20.0 in /opt/conda/lib/python3.7/site-packages (from scikit-image>=0.15->imagecorruptions) (23.0)\r\n",
      "Requirement already satisfied: imageio>=2.4.1 in /opt/conda/lib/python3.7/site-packages (from scikit-image>=0.15->imagecorruptions) (2.25.0)\r\n",
      "Requirement already satisfied: networkx>=2.2 in /opt/conda/lib/python3.7/site-packages (from scikit-image>=0.15->imagecorruptions) (2.6.3)\r\n",
      "Requirement already satisfied: PyWavelets>=1.1.1 in /opt/conda/lib/python3.7/site-packages (from scikit-image>=0.15->imagecorruptions) (1.3.0)\r\n",
      "Requirement already satisfied: tifffile>=2019.7.26 in /opt/conda/lib/python3.7/site-packages (from scikit-image>=0.15->imagecorruptions) (2021.11.2)\r\n",
      "Installing collected packages: imagecorruptions\r\n",
      "Successfully installed imagecorruptions-1.1.2\r\n",
      "\u001b[33mWARNING: Running pip as the 'root' user can result in broken permissions and conflicting behaviour with the system package manager. It is recommended to use a virtual environment instead: https://pip.pypa.io/warnings/venv\u001b[0m\u001b[33m\r\n",
      "\u001b[0m"
     ]
    }
   ],
   "source": [
    "!pip3 install imagecorruptions"
   ]
  },
  {
   "cell_type": "code",
   "execution_count": 2,
   "id": "731fdb78",
   "metadata": {
    "execution": {
     "iopub.execute_input": "2024-06-06T20:48:19.120462Z",
     "iopub.status.busy": "2024-06-06T20:48:19.120130Z",
     "iopub.status.idle": "2024-06-06T20:48:19.640191Z",
     "shell.execute_reply": "2024-06-06T20:48:19.639216Z"
    },
    "papermill": {
     "duration": 0.542442,
     "end_time": "2024-06-06T20:48:19.642948",
     "exception": false,
     "start_time": "2024-06-06T20:48:19.100506",
     "status": "completed"
    },
    "tags": []
   },
   "outputs": [],
   "source": [
    "from imagecorruptions import corrupt"
   ]
  },
  {
   "cell_type": "code",
   "execution_count": 3,
   "id": "aa77992b",
   "metadata": {
    "execution": {
     "iopub.execute_input": "2024-06-06T20:48:19.680283Z",
     "iopub.status.busy": "2024-06-06T20:48:19.679879Z",
     "iopub.status.idle": "2024-06-06T20:48:27.773518Z",
     "shell.execute_reply": "2024-06-06T20:48:27.772574Z"
    },
    "papermill": {
     "duration": 8.114926,
     "end_time": "2024-06-06T20:48:27.776067",
     "exception": false,
     "start_time": "2024-06-06T20:48:19.661141",
     "status": "completed"
    },
    "tags": []
   },
   "outputs": [],
   "source": [
    "import numpy as np\n",
    "import pandas as pd\n",
    "import tensorflow as tf\n",
    "import matplotlib.pyplot as plt\n",
    "import seaborn as sns\n",
    "from PIL import Image\n",
    "from tensorflow import keras\n",
    "import os\n",
    "import cv2\n",
    "import random as rn\n",
    "from sklearn.model_selection import train_test_split\n",
    "from sklearn.metrics import accuracy_score,f1_score,confusion_matrix\n",
    "from keras.utils import to_categorical\n",
    "from keras.models import Sequential\n",
    "from tensorflow.keras.applications import VGG16,VGG19,Xception,InceptionV3\n",
    "from tensorflow.keras.applications.densenet import DenseNet121\n",
    "from keras.regularizers import l2\n",
    "from keras.layers import Conv2D, MaxPool2D, Dense, Flatten,Dropout,Softmax,GlobalAveragePooling2D,Activation,BatchNormalization\n",
    "from tensorflow.keras.preprocessing.image import ImageDataGenerator, img_to_array, array_to_img, load_img\n",
    "import random\n",
    "# from imagecorruptions import corrupt\n",
    "import pickle\n",
    "\n"
   ]
  },
  {
   "cell_type": "code",
   "execution_count": 4,
   "id": "3e787307",
   "metadata": {
    "execution": {
     "iopub.execute_input": "2024-06-06T20:48:27.812743Z",
     "iopub.status.busy": "2024-06-06T20:48:27.811501Z",
     "iopub.status.idle": "2024-06-06T20:48:27.819307Z",
     "shell.execute_reply": "2024-06-06T20:48:27.818259Z"
    },
    "papermill": {
     "duration": 0.028237,
     "end_time": "2024-06-06T20:48:27.821557",
     "exception": false,
     "start_time": "2024-06-06T20:48:27.793320",
     "status": "completed"
    },
    "tags": []
   },
   "outputs": [],
   "source": [
    "def mask_surrounding_area(img):\n",
    "    # Load the image\n",
    "    # img = cv2.imread(image_path)\n",
    "    # if img is None:\n",
    "    #     print(\"Error: Image could not be read.\")\n",
    "    #     return\n",
    "\n",
    "    # Get image dimensions\n",
    "    height, width = 224,224\n",
    "\n",
    "    # Calculate dimensions for the central 70%\n",
    "    new_width = int(width * 0.7)\n",
    "    new_height = int(height * 0.7)\n",
    "\n",
    "    # Calculate the top-left corner of the bounding box\n",
    "    x = (width - new_width) // 2\n",
    "    y = (height - new_height) // 2\n",
    "\n",
    "    # Create a mask of zeros (black) with the same dimensions as the image\n",
    "    mask = np.zeros_like(img)\n",
    "\n",
    "    # Set the central 70% area of the mask to white (255)\n",
    "    mask[y:y+new_height, x:x+new_width] = 255\n",
    "\n",
    "    # Apply the mask using bitwise operations\n",
    "    masked_image = cv2.bitwise_and(img, mask)\n",
    "    return  masked_image\n",
    "\n"
   ]
  },
  {
   "cell_type": "code",
   "execution_count": 5,
   "id": "5a928ff9",
   "metadata": {
    "execution": {
     "iopub.execute_input": "2024-06-06T20:48:27.858084Z",
     "iopub.status.busy": "2024-06-06T20:48:27.857484Z",
     "iopub.status.idle": "2024-06-06T20:48:27.863544Z",
     "shell.execute_reply": "2024-06-06T20:48:27.862526Z"
    },
    "papermill": {
     "duration": 0.026699,
     "end_time": "2024-06-06T20:48:27.865723",
     "exception": false,
     "start_time": "2024-06-06T20:48:27.839024",
     "status": "completed"
    },
    "tags": []
   },
   "outputs": [],
   "source": [
    "def preprocess_contours(binary_array):\n",
    "    final_array = []\n",
    "    for img in binary_array:\n",
    "        integer_image = img.astype(np.uint8)\n",
    "\n",
    "        scaled_image = integer_image * 255\n",
    "        # i = detect_longest_connected_components(scaled_image)\n",
    "        mask = mask_surrounding_area(scaled_image)\n",
    "        final_array.append(scaled_image)\n",
    "    return np.array(final_array)\n"
   ]
  },
  {
   "cell_type": "code",
   "execution_count": 6,
   "id": "3faad3bc",
   "metadata": {
    "execution": {
     "iopub.execute_input": "2024-06-06T20:48:27.901918Z",
     "iopub.status.busy": "2024-06-06T20:48:27.901368Z",
     "iopub.status.idle": "2024-06-06T20:48:33.899783Z",
     "shell.execute_reply": "2024-06-06T20:48:33.898444Z"
    },
    "papermill": {
     "duration": 6.019101,
     "end_time": "2024-06-06T20:48:33.902113",
     "exception": false,
     "start_time": "2024-06-06T20:48:27.883012",
     "status": "completed"
    },
    "tags": []
   },
   "outputs": [
    {
     "name": "stdout",
     "output_type": "stream",
     "text": [
      "(3919, 224, 224, 3)\n"
     ]
    }
   ],
   "source": [
    "with open(\"/kaggle/input/belgium-nsct-mci-dataset/train_0_15.pkl\", 'rb') as file:\n",
    "    images = pickle.load(file)\n",
    "X_test = images[\"train\"][\"binary\"]\n",
    "y_test = images[\"train\"][\"target\"]\n",
    "\n",
    "with open(\"/kaggle/input/belgium-nsct-mci-dataset/bel_train_16_31.pkl\", 'rb') as file:\n",
    "    images = pickle.load(file)\n",
    "X_test2 = images[\"train\"][\"binary\"]\n",
    "y_test2= images[\"train\"][\"target\"]\n",
    "\n",
    "with open(\"/kaggle/input/belgium-nsct-mci-dataset/train_32_47.pkl\", 'rb') as file:\n",
    "    images = pickle.load(file)\n",
    "X_test3 = images[\"train\"][\"binary\"]\n",
    "y_test3= images[\"train\"][\"target\"]\n",
    "with open(\"/kaggle/input/belgium-nsct-mci-dataset/belgium_train_48_61.pkl\", 'rb') as file:\n",
    "    images = pickle.load(file)\n",
    "X_test4 = images[\"train\"][\"binary\"]\n",
    "y_test4 = images[\"train\"][\"target\"]\n",
    "# X_test4 = preprocess_contours(X_test4)\n",
    "combined_data = np.concatenate((X_test, X_test2,X_test3,X_test4), axis=0)\n",
    "lab_data = np.concatenate((y_test, y_test2,y_test3,y_test4), axis=0)\n",
    "print(combined_data.shape)"
   ]
  },
  {
   "cell_type": "code",
   "execution_count": 7,
   "id": "8b65229c",
   "metadata": {
    "execution": {
     "iopub.execute_input": "2024-06-06T20:48:33.938363Z",
     "iopub.status.busy": "2024-06-06T20:48:33.937759Z",
     "iopub.status.idle": "2024-06-06T20:48:36.893324Z",
     "shell.execute_reply": "2024-06-06T20:48:36.892119Z"
    },
    "papermill": {
     "duration": 2.976407,
     "end_time": "2024-06-06T20:48:36.895736",
     "exception": false,
     "start_time": "2024-06-06T20:48:33.919329",
     "status": "completed"
    },
    "tags": []
   },
   "outputs": [
    {
     "name": "stdout",
     "output_type": "stream",
     "text": [
      "(2520, 224, 224, 3)\n"
     ]
    }
   ],
   "source": [
    "with open(\"/kaggle/input/belgium-nsct-mci-dataset/test.pkl\", 'rb') as file:\n",
    "    images = pickle.load(file)\n",
    "X_test= images[\"train\"][\"binary\"]\n",
    "y_test = images[\"train\"][\"target\"]\n",
    "\n",
    "# with open(\"/kaggle/input/china-mci-final-dataset/china_test_mci_m_final.pkl\", 'rb') as file:\n",
    "#     images = pickle.load(file)\n",
    "# X_test2 = images[\"train\"][\"binary\"]\n",
    "# y_test2= images[\"train\"][\"target\"]\n",
    "# X_test2 = preprocess_contours(X_test2)\n",
    "# X_test = np.concatenate((X_test1, X_test2), axis=0)\n",
    "# y_test = np.concatenate((y_test1, y_test2), axis=0)\n",
    "print(X_test.shape)"
   ]
  },
  {
   "cell_type": "code",
   "execution_count": 8,
   "id": "1f5df1c4",
   "metadata": {
    "execution": {
     "iopub.execute_input": "2024-06-06T20:48:36.932406Z",
     "iopub.status.busy": "2024-06-06T20:48:36.931599Z",
     "iopub.status.idle": "2024-06-06T20:48:36.939005Z",
     "shell.execute_reply": "2024-06-06T20:48:36.937827Z"
    },
    "papermill": {
     "duration": 0.027997,
     "end_time": "2024-06-06T20:48:36.941327",
     "exception": false,
     "start_time": "2024-06-06T20:48:36.913330",
     "status": "completed"
    },
    "tags": []
   },
   "outputs": [
    {
     "name": "stdout",
     "output_type": "stream",
     "text": [
      "[ 0  1  2  3  4  5  6  7  8 10 12 13 14 16 17 18 19 20 21 22 23 24 25 27\n",
      " 28 29 30 31 32 34 35 37 38 39 40 41 42 43 44 45 46 47 49 51 53 54 55 56\n",
      " 57 58 59 60 61]\n"
     ]
    }
   ],
   "source": [
    "print(np.unique(y_test))"
   ]
  },
  {
   "cell_type": "code",
   "execution_count": 9,
   "id": "ae5f37a2",
   "metadata": {
    "execution": {
     "iopub.execute_input": "2024-06-06T20:48:36.978380Z",
     "iopub.status.busy": "2024-06-06T20:48:36.977570Z",
     "iopub.status.idle": "2024-06-06T20:48:37.189709Z",
     "shell.execute_reply": "2024-06-06T20:48:37.188729Z"
    },
    "papermill": {
     "duration": 0.233618,
     "end_time": "2024-06-06T20:48:37.192372",
     "exception": false,
     "start_time": "2024-06-06T20:48:36.958754",
     "status": "completed"
    },
    "tags": []
   },
   "outputs": [],
   "source": [
    "X_train = np.array(combined_data)\n",
    "y_train = np.array(lab_data)\n"
   ]
  },
  {
   "cell_type": "code",
   "execution_count": 10,
   "id": "91b0ade0",
   "metadata": {
    "execution": {
     "iopub.execute_input": "2024-06-06T20:48:37.230604Z",
     "iopub.status.busy": "2024-06-06T20:48:37.229731Z",
     "iopub.status.idle": "2024-06-06T20:48:37.235340Z",
     "shell.execute_reply": "2024-06-06T20:48:37.234277Z"
    },
    "papermill": {
     "duration": 0.02723,
     "end_time": "2024-06-06T20:48:37.237851",
     "exception": false,
     "start_time": "2024-06-06T20:48:37.210621",
     "status": "completed"
    },
    "tags": []
   },
   "outputs": [
    {
     "name": "stdout",
     "output_type": "stream",
     "text": [
      "(3919, 224, 224, 3) (3919,) (2520, 224, 224, 3) (2520,)\n"
     ]
    }
   ],
   "source": [
    "print(X_train.shape,y_train.shape,X_test.shape,y_test.shape)"
   ]
  },
  {
   "cell_type": "code",
   "execution_count": 11,
   "id": "4f3e729a",
   "metadata": {
    "execution": {
     "iopub.execute_input": "2024-06-06T20:48:37.274839Z",
     "iopub.status.busy": "2024-06-06T20:48:37.274018Z",
     "iopub.status.idle": "2024-06-06T20:48:37.282421Z",
     "shell.execute_reply": "2024-06-06T20:48:37.281434Z"
    },
    "papermill": {
     "duration": 0.028996,
     "end_time": "2024-06-06T20:48:37.284734",
     "exception": false,
     "start_time": "2024-06-06T20:48:37.255738",
     "status": "completed"
    },
    "tags": []
   },
   "outputs": [
    {
     "data": {
      "text/plain": [
       "array([ 0,  1,  2,  3,  4,  5,  6,  7,  8, 10, 12, 13, 14, 16, 17, 18, 19,\n",
       "       20, 21, 22, 23, 24, 25, 27, 28, 29, 30, 31, 32, 34, 35, 37, 38, 39,\n",
       "       40, 41, 42, 43, 44, 45, 46, 47, 49, 51, 53, 54, 55, 56, 57, 58, 59,\n",
       "       60, 61], dtype=int32)"
      ]
     },
     "execution_count": 11,
     "metadata": {},
     "output_type": "execute_result"
    }
   ],
   "source": [
    "np.unique(y_test)\n"
   ]
  },
  {
   "cell_type": "code",
   "execution_count": 12,
   "id": "34066cca",
   "metadata": {
    "execution": {
     "iopub.execute_input": "2024-06-06T20:48:37.321710Z",
     "iopub.status.busy": "2024-06-06T20:48:37.321052Z",
     "iopub.status.idle": "2024-06-06T20:48:37.432379Z",
     "shell.execute_reply": "2024-06-06T20:48:37.431099Z"
    },
    "papermill": {
     "duration": 0.132529,
     "end_time": "2024-06-06T20:48:37.434868",
     "exception": false,
     "start_time": "2024-06-06T20:48:37.302339",
     "status": "completed"
    },
    "tags": []
   },
   "outputs": [
    {
     "name": "stdout",
     "output_type": "stream",
     "text": [
      "Updated X_test:\n",
      "(2307, 224, 224, 3)\n",
      "Updated y_test:\n",
      "(2307,)\n"
     ]
    }
   ],
   "source": [
    "class_to_delete = 38\n",
    "\n",
    "# Find indices of elements to delete\n",
    "indices_to_delete = np.where(y_test == class_to_delete)[0]\n",
    "\n",
    "# Delete corresponding elements from X_test and y_test\n",
    "X_test = np.delete(X_test, indices_to_delete, axis=0)\n",
    "y_test = np.delete(y_test, indices_to_delete)\n",
    "\n",
    "print(\"Updated X_test:\")\n",
    "print(X_test.shape)\n",
    "print(\"Updated y_test:\")\n",
    "print(y_test.shape)\n"
   ]
  },
  {
   "cell_type": "code",
   "execution_count": 13,
   "id": "1f41bc6e",
   "metadata": {
    "execution": {
     "iopub.execute_input": "2024-06-06T20:48:37.471987Z",
     "iopub.status.busy": "2024-06-06T20:48:37.471320Z",
     "iopub.status.idle": "2024-06-06T20:48:37.640027Z",
     "shell.execute_reply": "2024-06-06T20:48:37.639000Z"
    },
    "papermill": {
     "duration": 0.18976,
     "end_time": "2024-06-06T20:48:37.642585",
     "exception": false,
     "start_time": "2024-06-06T20:48:37.452825",
     "status": "completed"
    },
    "tags": []
   },
   "outputs": [
    {
     "name": "stdout",
     "output_type": "stream",
     "text": [
      "(3786, 224, 224, 3)\n"
     ]
    }
   ],
   "source": [
    "class_to_delete = 38\n",
    "\n",
    "# Find indices of elements to delete\n",
    "indices_to_delete = np.where(y_train == class_to_delete)[0]\n",
    "\n",
    "X_train = np.delete(X_train, indices_to_delete, axis=0)\n",
    "y_train = np.delete(y_train, indices_to_delete)\n",
    "print(X_train.shape)"
   ]
  },
  {
   "cell_type": "code",
   "execution_count": 14,
   "id": "8cbb723d",
   "metadata": {
    "execution": {
     "iopub.execute_input": "2024-06-06T20:48:37.680040Z",
     "iopub.status.busy": "2024-06-06T20:48:37.679282Z",
     "iopub.status.idle": "2024-06-06T20:48:37.684704Z",
     "shell.execute_reply": "2024-06-06T20:48:37.683719Z"
    },
    "papermill": {
     "duration": 0.026661,
     "end_time": "2024-06-06T20:48:37.687063",
     "exception": false,
     "start_time": "2024-06-06T20:48:37.660402",
     "status": "completed"
    },
    "tags": []
   },
   "outputs": [
    {
     "name": "stdout",
     "output_type": "stream",
     "text": [
      "Updated X_test:\n",
      "(3786, 224, 224, 3)\n",
      "Updated y_test:\n",
      "(3786,)\n"
     ]
    }
   ],
   "source": [
    "print(\"Updated X_test:\")\n",
    "print(X_train.shape)\n",
    "print(\"Updated y_test:\")\n",
    "print(y_train.shape)"
   ]
  },
  {
   "cell_type": "code",
   "execution_count": 15,
   "id": "c9a1f904",
   "metadata": {
    "execution": {
     "iopub.execute_input": "2024-06-06T20:48:37.725241Z",
     "iopub.status.busy": "2024-06-06T20:48:37.724400Z",
     "iopub.status.idle": "2024-06-06T20:48:37.730976Z",
     "shell.execute_reply": "2024-06-06T20:48:37.729746Z"
    },
    "papermill": {
     "duration": 0.028341,
     "end_time": "2024-06-06T20:48:37.733344",
     "exception": false,
     "start_time": "2024-06-06T20:48:37.705003",
     "status": "completed"
    },
    "tags": []
   },
   "outputs": [
    {
     "name": "stdout",
     "output_type": "stream",
     "text": [
      "(2307, 224, 224, 3) (2307,)\n",
      "[ 0  1  2  3  4  5  6  7  8 10 12 13 14 16 17 18 19 20 21 22 23 24 25 27\n",
      " 28 29 30 31 32 34 35 37 39 40 41 42 43 44 45 46 47 49 51 53 54 55 56 57\n",
      " 58 59 60 61]\n"
     ]
    }
   ],
   "source": [
    "print(X_test.shape,y_test.shape)\n",
    "print(np.unique(y_test))"
   ]
  },
  {
   "cell_type": "code",
   "execution_count": 16,
   "id": "e2ce9551",
   "metadata": {
    "execution": {
     "iopub.execute_input": "2024-06-06T20:48:37.772954Z",
     "iopub.status.busy": "2024-06-06T20:48:37.772348Z",
     "iopub.status.idle": "2024-06-06T20:48:37.786813Z",
     "shell.execute_reply": "2024-06-06T20:48:37.785022Z"
    },
    "papermill": {
     "duration": 0.037303,
     "end_time": "2024-06-06T20:48:37.789067",
     "exception": false,
     "start_time": "2024-06-06T20:48:37.751764",
     "status": "completed"
    },
    "tags": []
   },
   "outputs": [
    {
     "name": "stdout",
     "output_type": "stream",
     "text": [
      "[ 0  1  2  3  4  5  6  7  8 10 12 13 14 16 17 18 19 20 21 22 23 24 25 27\n",
      " 28 29 30 31 32 34 35 37 39 40 41 42 43 44 45 46 47 49 51 53 54 55 56 57\n",
      " 58 59 60 61]\n",
      "{0: 0, 1: 1, 2: 2, 3: 3, 4: 4, 5: 5, 6: 6, 7: 7, 8: 8, 9: 9, 10: 10, 11: 11, 12: 12, 13: 13, 14: 14, 15: 15, 16: 16, 17: 17, 18: 18, 19: 19, 20: 20, 21: 21, 22: 22, 23: 23, 24: 24, 25: 25, 26: 26, 27: 27, 28: 28, 29: 29, 30: 30, 31: 31, 32: 32, 33: 33, 34: 34, 35: 35, 36: 36, 37: 37, 39: 38, 40: 39, 41: 40, 42: 41, 43: 42, 44: 43, 45: 44, 46: 45, 47: 46, 48: 47, 49: 48, 50: 49, 51: 50, 52: 51, 53: 52, 54: 53, 55: 54, 56: 55, 57: 56, 58: 57, 59: 58, 60: 59, 61: 60}\n",
      "Original labels:\n",
      "[ 0  1  2  3  4  5  6  7  8  9 10 11 12 13 14 15 16 17 18 19 20 21 22 23\n",
      " 24 25 26 27 28 29 30 31 32 33 34 35 36 37 38 39 40 41 42 43 44 45 46 47\n",
      " 48 49 50 51 52 53 54 55 56 57 58 59 60]\n"
     ]
    }
   ],
   "source": [
    "num_classes = 61\n",
    "new_labels = []\n",
    "mapping = {}\n",
    "print(np.unique(y_test))\n",
    "for label in np.unique(y_train):\n",
    "    if label < 38:\n",
    "        new_labels.append(label)\n",
    "    elif label > 38:\n",
    "        new_labels.append(label - 1)\n",
    "    mapping[label] = new_labels[-1]\n",
    "print(mapping)\n",
    "\n",
    "# Update labels in y_train using the mapping\n",
    "y_train = np.array([mapping[label] for label in y_train])\n",
    "y_test = np.array([mapping[label] for label in y_test])\n",
    "\n",
    "print(\"Original labels:\")\n",
    "print(np.unique(y_train))\n",
    "\n"
   ]
  },
  {
   "cell_type": "code",
   "execution_count": 17,
   "id": "1a693603",
   "metadata": {
    "execution": {
     "iopub.execute_input": "2024-06-06T20:48:37.827695Z",
     "iopub.status.busy": "2024-06-06T20:48:37.827322Z",
     "iopub.status.idle": "2024-06-06T20:48:37.832233Z",
     "shell.execute_reply": "2024-06-06T20:48:37.831177Z"
    },
    "papermill": {
     "duration": 0.026782,
     "end_time": "2024-06-06T20:48:37.834469",
     "exception": false,
     "start_time": "2024-06-06T20:48:37.807687",
     "status": "completed"
    },
    "tags": []
   },
   "outputs": [],
   "source": [
    "# num_classes = 62\n",
    "# new_labels = []\n",
    "# mapping = {}\n",
    "\n",
    "# # for label in np.unique(y_test):\n",
    "#     if label < 38:\n",
    "#         new_labels.append(label)\n",
    "#     elif label > 38:\n",
    "#         new_labels.append(label - 1)\n",
    "#     mapping[label] = new_labels[-1]\n",
    "\n",
    "# # Update labels in y_train using the mapping\n",
    "# y_train = np.array([mapping[label] for label in y_test])\n",
    "# # y_test = np.array([mapping[label] for label in y_test])\n",
    "\n",
    "# print(\"Original labels:\")\n",
    "# print(np.unique(y_test))\n",
    "\n"
   ]
  },
  {
   "cell_type": "code",
   "execution_count": 18,
   "id": "d3bb8aa2",
   "metadata": {
    "execution": {
     "iopub.execute_input": "2024-06-06T20:48:37.873371Z",
     "iopub.status.busy": "2024-06-06T20:48:37.872429Z",
     "iopub.status.idle": "2024-06-06T20:48:54.801883Z",
     "shell.execute_reply": "2024-06-06T20:48:54.800836Z"
    },
    "papermill": {
     "duration": 16.951654,
     "end_time": "2024-06-06T20:48:54.804783",
     "exception": false,
     "start_time": "2024-06-06T20:48:37.853129",
     "status": "completed"
    },
    "tags": []
   },
   "outputs": [
    {
     "name": "stdout",
     "output_type": "stream",
     "text": [
      "{0: 15, 1: 100, 2: 11, 3: 12, 4: 14, 5: 11, 6: 17, 7: 137, 8: 27, 9: 15, 10: 21, 11: 5, 12: 18, 13: 85, 14: 40, 15: 9, 16: 9, 17: 76, 18: 81, 19: 231, 20: 42, 21: 39, 22: 363, 23: 12, 24: 48, 25: 40, 26: 6, 27: 18, 28: 125, 29: 33, 30: 37, 31: 61, 46: 119, 32: 275, 33: 8, 34: 38, 35: 44, 36: 16, 37: 85, 38: 125, 39: 156, 40: 90, 41: 22, 42: 19, 43: 40, 44: 74, 45: 40, 47: 11, 48: 12, 49: 15, 50: 27, 51: 27, 52: 199, 53: 118, 54: 12, 55: 95, 56: 13, 57: 15, 58: 42, 59: 9, 60: 282}\n"
     ]
    }
   ],
   "source": [
    "## Augmentation to balance class imbalance\n",
    "\n",
    "MIN_IMGS_IN_CLASS = 74\n",
    "def count_images_in_classes(lbls):\n",
    "    dct = {}\n",
    "    for i in lbls:\n",
    "        if i in dct:\n",
    "            dct[i] += 1\n",
    "        else:\n",
    "            dct[i] = 1\n",
    "    return dct\n",
    "\n",
    "\n",
    "\n",
    "def augment_imgs(imgs, p):\n",
    "    \"\"\"\n",
    "    Performs a set of augmentations with with a probability p\n",
    "    \"\"\"\n",
    "    from imgaug import augmenters as iaa\n",
    "    augs =  iaa.SomeOf((2, 4),\n",
    "          [\n",
    "              iaa.Crop(px=(0, 4)), # crop images from each side by 0 to 4px (randomly chosen)\n",
    "              iaa.Affine(scale={\"x\": (0.8, 1.2), \"y\": (0.8, 1.2)}),\n",
    "              iaa.Affine(translate_percent={\"x\": (-0.2, 0.2), \"y\": (-0.2, 0.2)}),\n",
    "              iaa.Affine(rotate=(-45, 45)), # rotate by -45 to +45 degrees)\n",
    "              iaa.Affine(shear=(-10, 10)) # shear by -10 to +10 degrees\n",
    "          ])\n",
    "    \n",
    "    seq = iaa.Sequential([iaa.Sometimes(p, augs)])\n",
    "    res = seq.augment_images(imgs)\n",
    "    return res\n",
    "    \n",
    "def augmentation(imgs, lbls):\n",
    "    classes = count_images_in_classes(lbls)\n",
    "    for i in range(len(classes)): \n",
    "    \n",
    "            if (classes[i] < MIN_IMGS_IN_CLASS):\n",
    "                # Number of samples to be added\n",
    "                add_num = MIN_IMGS_IN_CLASS - classes[i]\n",
    "                imgs_for_augm = []\n",
    "                lbls_for_augm = []\n",
    "                for j in range(add_num):\n",
    "                    im_index = random.choice(np.where(lbls == i)[0])\n",
    "                    imgs_for_augm.append(imgs[im_index])\n",
    "                    lbls_for_augm.append(lbls[im_index])\n",
    "                augmented_class = augment_imgs(imgs_for_augm, 1)\n",
    "                augmented_class_np = np.array(augmented_class)\n",
    "                augmented_lbls_np = np.array(lbls_for_augm)\n",
    "                imgs = np.concatenate((imgs, augmented_class_np), axis=0)\n",
    "                lbls = np.concatenate((lbls, augmented_lbls_np), axis=0)\n",
    "    return (imgs, lbls)\n",
    "   \n",
    "    \n",
    "print(count_images_in_classes(y_train))\n",
    "train_X, train_Y = augmentation(X_train, y_train)"
   ]
  },
  {
   "cell_type": "code",
   "execution_count": 19,
   "id": "8209aa7b",
   "metadata": {
    "execution": {
     "iopub.execute_input": "2024-06-06T20:48:54.844880Z",
     "iopub.status.busy": "2024-06-06T20:48:54.844131Z",
     "iopub.status.idle": "2024-06-06T20:48:54.850791Z",
     "shell.execute_reply": "2024-06-06T20:48:54.849802Z"
    },
    "papermill": {
     "duration": 0.028423,
     "end_time": "2024-06-06T20:48:54.853100",
     "exception": false,
     "start_time": "2024-06-06T20:48:54.824677",
     "status": "completed"
    },
    "tags": []
   },
   "outputs": [
    {
     "name": "stdout",
     "output_type": "stream",
     "text": [
      "{0: 6, 1: 27, 2: 7, 3: 6, 4: 12, 5: 3, 6: 6, 7: 90, 8: 12, 10: 28, 12: 3, 13: 39, 14: 15, 16: 12, 17: 183, 18: 122, 19: 163, 20: 3, 21: 45, 22: 61, 23: 15, 24: 13, 25: 3, 27: 9, 28: 51, 29: 28, 30: 37, 31: 86, 32: 422, 34: 9, 35: 154, 37: 31, 38: 99, 39: 48, 40: 11, 41: 9, 42: 6, 43: 3, 44: 84, 45: 6, 46: 31, 48: 3, 50: 3, 52: 24, 53: 48, 54: 15, 55: 33, 56: 41, 57: 9, 58: 17, 59: 11, 60: 105}\n"
     ]
    }
   ],
   "source": [
    "print(count_images_in_classes(y_test))"
   ]
  },
  {
   "cell_type": "code",
   "execution_count": 20,
   "id": "72e6b688",
   "metadata": {
    "execution": {
     "iopub.execute_input": "2024-06-06T20:48:54.891344Z",
     "iopub.status.busy": "2024-06-06T20:48:54.890488Z",
     "iopub.status.idle": "2024-06-06T20:48:54.895769Z",
     "shell.execute_reply": "2024-06-06T20:48:54.894724Z"
    },
    "papermill": {
     "duration": 0.027124,
     "end_time": "2024-06-06T20:48:54.898299",
     "exception": false,
     "start_time": "2024-06-06T20:48:54.871175",
     "status": "completed"
    },
    "tags": []
   },
   "outputs": [
    {
     "name": "stdout",
     "output_type": "stream",
     "text": [
      "(224, 224, 3)\n",
      "(5924,)\n"
     ]
    }
   ],
   "source": [
    "print(train_X[1].shape)\n",
    "print(train_Y.shape)\n"
   ]
  },
  {
   "cell_type": "code",
   "execution_count": 21,
   "id": "8eb91eb9",
   "metadata": {
    "execution": {
     "iopub.execute_input": "2024-06-06T20:48:54.936833Z",
     "iopub.status.busy": "2024-06-06T20:48:54.936311Z",
     "iopub.status.idle": "2024-06-06T20:48:54.941497Z",
     "shell.execute_reply": "2024-06-06T20:48:54.940538Z"
    },
    "papermill": {
     "duration": 0.027449,
     "end_time": "2024-06-06T20:48:54.944016",
     "exception": false,
     "start_time": "2024-06-06T20:48:54.916567",
     "status": "completed"
    },
    "tags": []
   },
   "outputs": [
    {
     "name": "stdout",
     "output_type": "stream",
     "text": [
      "(2307, 224, 224, 3) (2307,)\n"
     ]
    }
   ],
   "source": [
    "print(X_test.shape,y_test.shape)"
   ]
  },
  {
   "cell_type": "code",
   "execution_count": 22,
   "id": "d2ed2f72",
   "metadata": {
    "execution": {
     "iopub.execute_input": "2024-06-06T20:48:54.983174Z",
     "iopub.status.busy": "2024-06-06T20:48:54.982212Z",
     "iopub.status.idle": "2024-06-06T20:48:57.193103Z",
     "shell.execute_reply": "2024-06-06T20:48:57.192147Z"
    },
    "papermill": {
     "duration": 2.23353,
     "end_time": "2024-06-06T20:48:57.195751",
     "exception": false,
     "start_time": "2024-06-06T20:48:54.962221",
     "status": "completed"
    },
    "tags": []
   },
   "outputs": [],
   "source": [
    "alpha=0.0001\n",
    "epochs=25\n",
    "optim = keras.optimizers.Adam(learning_rate=alpha)\n",
    "monitor = tf.keras.callbacks.EarlyStopping(monitor = 'val_loss',patience = 8,restore_best_weights = True, min_delta = 0.01)"
   ]
  },
  {
   "cell_type": "code",
   "execution_count": 23,
   "id": "ba7a8f9b",
   "metadata": {
    "execution": {
     "iopub.execute_input": "2024-06-06T20:48:57.234178Z",
     "iopub.status.busy": "2024-06-06T20:48:57.233417Z",
     "iopub.status.idle": "2024-06-06T20:48:57.238490Z",
     "shell.execute_reply": "2024-06-06T20:48:57.237536Z"
    },
    "papermill": {
     "duration": 0.026381,
     "end_time": "2024-06-06T20:48:57.240599",
     "exception": false,
     "start_time": "2024-06-06T20:48:57.214218",
     "status": "completed"
    },
    "tags": []
   },
   "outputs": [],
   "source": [
    "# from keras.callbacks import ReduceLROnPlateau\n",
    "# import tensorflow as tf\n",
    "\n",
    "# # Define EarlyStopping callback\n",
    "# early_stopping = tf.keras.callbacks.EarlyStopping(\n",
    "#     monitor='val_loss',  # Monitor validation loss\n",
    "#     patience=8,          # Number of epochs to wait before stopping\n",
    "#     restore_best_weights=True,  # Restore weights to the best iteration\n",
    "#     min_delta=0.01       # Minimum change in the monitored quantity to qualify as improvement\n",
    "# )\n",
    "\n",
    "# # Define ReduceLROnPlateau callback\n",
    "# reduce_lr = tf.keras.callbacks.ReduceLROnPlateau(\n",
    "#     monitor='val_loss',  # Monitor validation loss\n",
    "#     factor=0.2,          # Factor by which the learning rate will be reduced\n",
    "#     patience=5,          # Number of epochs with no improvement after which learning rate will be reduced\n",
    "#     min_lr=0.0001       # Minimum learning rate allowed after reduction\n",
    "# )\n",
    "\n",
    "# # Combine both callbacks\n",
    "# callbacks = [early_stopping, reduce_lr]"
   ]
  },
  {
   "cell_type": "code",
   "execution_count": 24,
   "id": "33586d35",
   "metadata": {
    "execution": {
     "iopub.execute_input": "2024-06-06T20:48:57.278606Z",
     "iopub.status.busy": "2024-06-06T20:48:57.277959Z",
     "iopub.status.idle": "2024-06-06T20:48:57.282844Z",
     "shell.execute_reply": "2024-06-06T20:48:57.281796Z"
    },
    "papermill": {
     "duration": 0.026383,
     "end_time": "2024-06-06T20:48:57.285187",
     "exception": false,
     "start_time": "2024-06-06T20:48:57.258804",
     "status": "completed"
    },
    "tags": []
   },
   "outputs": [],
   "source": [
    "# from tensorflow.keras.applications import MobileNetV2\n",
    "# base_model = MobileNetV2(weights='imagenet', include_top=False, input_shape=(224,224, 3))\n",
    "\n",
    "# mobilenet_model = Sequential()\n",
    "# mobilenet_model.add(base_model)\n",
    "# #new\n",
    "\n",
    "# mobilenet_model.add(GlobalAveragePooling2D())\n",
    "# mobilenet_model.add(Dense(units=512, activation='relu'))\n",
    "# mobilenet_model.add(BatchNormalization())\n",
    "# mobilenet_model.add(Dropout(0.4))  # Optional dropout for regularization\n",
    "# mobilenet_model.add(Dense(units=256, activation='relu'))\n",
    "# mobilenet_model.add(BatchNormalization())\n",
    "# mobilenet_model.add(Dropout(0.5))  # Optional dropout for regularization\n",
    "# mobilenet_model.add(Dense(62, activation='softmax'))\n",
    "# #new\n",
    "\n",
    "# model = mobilenet_model\n",
    "# model.summary()\n",
    "# model.compile(optimizer = keras.optimizers.legacy.Adam(lr=0.0002), loss = 'sparse_categorical_crossentropy', metrics = ['accuracy'])"
   ]
  },
  {
   "cell_type": "code",
   "execution_count": 25,
   "id": "fd5b729f",
   "metadata": {
    "execution": {
     "iopub.execute_input": "2024-06-06T20:48:57.322489Z",
     "iopub.status.busy": "2024-06-06T20:48:57.321945Z",
     "iopub.status.idle": "2024-06-06T20:48:59.459594Z",
     "shell.execute_reply": "2024-06-06T20:48:59.458544Z"
    },
    "papermill": {
     "duration": 2.158994,
     "end_time": "2024-06-06T20:48:59.462201",
     "exception": false,
     "start_time": "2024-06-06T20:48:57.303207",
     "status": "completed"
    },
    "tags": []
   },
   "outputs": [
    {
     "name": "stdout",
     "output_type": "stream",
     "text": [
      "Downloading data from https://storage.googleapis.com/tensorflow/keras-applications/mobilenet_v2/mobilenet_v2_weights_tf_dim_ordering_tf_kernels_1.0_224_no_top.h5\n",
      "9406464/9406464 [==============================] - 0s 0us/step\n",
      "Model: \"sequential\"\n",
      "_________________________________________________________________\n",
      " Layer (type)                Output Shape              Param #   \n",
      "=================================================================\n",
      " mobilenetv2_1.00_224 (Funct  (None, 7, 7, 1280)       2257984   \n",
      " ional)                                                          \n",
      "                                                                 \n",
      " dropout (Dropout)           (None, 7, 7, 1280)        0         \n",
      "                                                                 \n",
      " flatten (Flatten)           (None, 62720)             0         \n",
      "                                                                 \n",
      " dense (Dense)               (None, 512)               32113152  \n",
      "                                                                 \n",
      " batch_normalization (BatchN  (None, 512)              2048      \n",
      " ormalization)                                                   \n",
      "                                                                 \n",
      " dropout_1 (Dropout)         (None, 512)               0         \n",
      "                                                                 \n",
      " dense_1 (Dense)             (None, 512)               262656    \n",
      "                                                                 \n",
      " batch_normalization_1 (Batc  (None, 512)              2048      \n",
      " hNormalization)                                                 \n",
      "                                                                 \n",
      " dense_2 (Dense)             (None, 512)               262656    \n",
      "                                                                 \n",
      " batch_normalization_2 (Batc  (None, 512)              2048      \n",
      " hNormalization)                                                 \n",
      "                                                                 \n",
      " dropout_2 (Dropout)         (None, 512)               0         \n",
      "                                                                 \n",
      " dense_3 (Dense)             (None, 62)                31806     \n",
      "                                                                 \n",
      "=================================================================\n",
      "Total params: 34,934,398\n",
      "Trainable params: 34,897,214\n",
      "Non-trainable params: 37,184\n",
      "_________________________________________________________________\n"
     ]
    },
    {
     "name": "stderr",
     "output_type": "stream",
     "text": [
      "/opt/conda/lib/python3.7/site-packages/keras/optimizers/optimizer_v2/adam.py:117: UserWarning: The `lr` argument is deprecated, use `learning_rate` instead.\n",
      "  super().__init__(name, **kwargs)\n"
     ]
    }
   ],
   "source": [
    "from tensorflow.keras.applications import MobileNetV2\n",
    "base_model = MobileNetV2(weights='imagenet', include_top=False, input_shape=(224,224, 3))\n",
    "\n",
    "mobilenet_model = Sequential()\n",
    "mobilenet_model.add(base_model)\n",
    "#new\n",
    "mobilenet_model.add(Dropout(0.5))\n",
    "mobilenet_model.add(Flatten())\n",
    "# mobilenet_model.add(GlobalAveragePooling2D())\n",
    "mobilenet_model.add(Dense(units=512, activation='relu'))\n",
    "mobilenet_model.add(BatchNormalization())\n",
    "mobilenet_model.add(Dropout(0.5))  # Optional dropout for regularization\n",
    "mobilenet_model.add(Dense(units=512, activation='relu'))\n",
    "mobilenet_model.add(BatchNormalization())\n",
    "mobilenet_model.add(Dense(units=512, activation='relu'))\n",
    "mobilenet_model.add(BatchNormalization())\n",
    "mobilenet_model.add(Dropout(0.5))  # Optional dropout for regularization\n",
    "mobilenet_model.add(Dense(62, activation='softmax'))\n",
    "#new\n",
    "\n",
    "model = mobilenet_model\n",
    "model.summary()\n",
    "model.compile(optimizer = keras.optimizers.legacy.Adam(lr=0.0002), loss = 'sparse_categorical_crossentropy', metrics = ['accuracy'])"
   ]
  },
  {
   "cell_type": "code",
   "execution_count": 26,
   "id": "09431c66",
   "metadata": {
    "execution": {
     "iopub.execute_input": "2024-06-06T20:48:59.506757Z",
     "iopub.status.busy": "2024-06-06T20:48:59.506383Z",
     "iopub.status.idle": "2024-06-06T21:24:34.928241Z",
     "shell.execute_reply": "2024-06-06T21:24:34.927056Z"
    },
    "papermill": {
     "duration": 2135.446818,
     "end_time": "2024-06-06T21:24:34.930583",
     "exception": false,
     "start_time": "2024-06-06T20:48:59.483765",
     "status": "completed"
    },
    "tags": []
   },
   "outputs": [
    {
     "name": "stdout",
     "output_type": "stream",
     "text": [
      "Epoch 1/25\n"
     ]
    },
    {
     "name": "stderr",
     "output_type": "stream",
     "text": [
      "2024-06-06 20:49:06.414900: E tensorflow/core/grappler/optimizers/meta_optimizer.cc:954] layout failed: INVALID_ARGUMENT: Size of values 0 does not match size of permutation 4 @ fanin shape insequential/dropout/dropout/SelectV2-2-TransposeNHWCToNCHW-LayoutOptimizer\n"
     ]
    },
    {
     "name": "stdout",
     "output_type": "stream",
     "text": [
      "296/296 [==============================] - 40s 100ms/step - loss: 2.9627 - accuracy: 0.3443 - val_loss: 2.3691 - val_accuracy: 0.4169\n",
      "Epoch 2/25\n",
      "296/296 [==============================] - 28s 95ms/step - loss: 1.1315 - accuracy: 0.6911 - val_loss: 1.2208 - val_accuracy: 0.6439\n",
      "Epoch 3/25\n",
      "296/296 [==============================] - 28s 95ms/step - loss: 0.5368 - accuracy: 0.8490 - val_loss: 0.5301 - val_accuracy: 0.8464\n",
      "Epoch 4/25\n",
      "296/296 [==============================] - 28s 94ms/step - loss: 0.2706 - accuracy: 0.9254 - val_loss: 0.2953 - val_accuracy: 0.9190\n",
      "Epoch 5/25\n",
      "296/296 [==============================] - 28s 94ms/step - loss: 0.1784 - accuracy: 0.9545 - val_loss: 0.1395 - val_accuracy: 0.9536\n",
      "Epoch 6/25\n",
      "296/296 [==============================] - 28s 93ms/step - loss: 0.1429 - accuracy: 0.9620 - val_loss: 0.1054 - val_accuracy: 0.9688\n",
      "Epoch 7/25\n",
      "296/296 [==============================] - 28s 94ms/step - loss: 0.0955 - accuracy: 0.9735 - val_loss: 0.0466 - val_accuracy: 0.9882\n",
      "Epoch 8/25\n",
      "296/296 [==============================] - 28s 93ms/step - loss: 0.0716 - accuracy: 0.9817 - val_loss: 0.0454 - val_accuracy: 0.9882\n",
      "Epoch 9/25\n",
      "296/296 [==============================] - 27s 92ms/step - loss: 0.0507 - accuracy: 0.9863 - val_loss: 0.0513 - val_accuracy: 0.9848\n",
      "Epoch 10/25\n",
      "296/296 [==============================] - 28s 94ms/step - loss: 0.0483 - accuracy: 0.9869 - val_loss: 0.0443 - val_accuracy: 0.9865\n",
      "Epoch 11/25\n",
      "296/296 [==============================] - 28s 94ms/step - loss: 0.0496 - accuracy: 0.9865 - val_loss: 0.0678 - val_accuracy: 0.9814\n",
      "Epoch 12/25\n",
      "296/296 [==============================] - 27s 93ms/step - loss: 0.0540 - accuracy: 0.9871 - val_loss: 0.0779 - val_accuracy: 0.9814\n",
      "Epoch 13/25\n",
      "296/296 [==============================] - 27s 92ms/step - loss: 0.0554 - accuracy: 0.9855 - val_loss: 0.0735 - val_accuracy: 0.9806\n",
      "Epoch 14/25\n",
      "296/296 [==============================] - 28s 93ms/step - loss: 0.0661 - accuracy: 0.9795 - val_loss: 0.0811 - val_accuracy: 0.9781\n",
      "Epoch 15/25\n",
      "296/296 [==============================] - 28s 94ms/step - loss: 0.0636 - accuracy: 0.9827 - val_loss: 0.2047 - val_accuracy: 0.9477\n",
      "38/38 [==============================] - 2s 24ms/step\n",
      "149/149 [==============================] - 4s 24ms/step\n",
      "73/73 [==============================] - 2s 23ms/step\n",
      "0.9592544429995665\n",
      "Epoch 1/25\n",
      "296/296 [==============================] - 29s 97ms/step - loss: 0.3822 - accuracy: 0.8910 - val_loss: 0.4563 - val_accuracy: 0.8641\n",
      "Epoch 2/25\n",
      "296/296 [==============================] - 28s 95ms/step - loss: 0.1949 - accuracy: 0.9415 - val_loss: 0.1417 - val_accuracy: 0.9544\n",
      "Epoch 3/25\n",
      "296/296 [==============================] - 28s 95ms/step - loss: 0.0957 - accuracy: 0.9755 - val_loss: 0.1088 - val_accuracy: 0.9705\n",
      "Epoch 4/25\n",
      "296/296 [==============================] - 28s 95ms/step - loss: 0.0607 - accuracy: 0.9845 - val_loss: 0.0301 - val_accuracy: 0.9907\n",
      "Epoch 5/25\n",
      "296/296 [==============================] - 28s 94ms/step - loss: 0.0584 - accuracy: 0.9855 - val_loss: 0.0388 - val_accuracy: 0.9882\n",
      "Epoch 6/25\n",
      "296/296 [==============================] - 28s 94ms/step - loss: 0.0436 - accuracy: 0.9883 - val_loss: 0.0837 - val_accuracy: 0.9781\n",
      "Epoch 7/25\n",
      "296/296 [==============================] - 28s 94ms/step - loss: 0.0550 - accuracy: 0.9857 - val_loss: 0.0729 - val_accuracy: 0.9755\n",
      "Epoch 8/25\n",
      "296/296 [==============================] - 28s 94ms/step - loss: 0.0475 - accuracy: 0.9851 - val_loss: 0.0959 - val_accuracy: 0.9696\n",
      "Epoch 9/25\n",
      "296/296 [==============================] - 28s 95ms/step - loss: 0.0720 - accuracy: 0.9801 - val_loss: 0.0905 - val_accuracy: 0.9755\n",
      "Epoch 10/25\n",
      "296/296 [==============================] - 28s 94ms/step - loss: 0.0518 - accuracy: 0.9851 - val_loss: 0.1155 - val_accuracy: 0.9764\n",
      "Epoch 11/25\n",
      "296/296 [==============================] - 28s 94ms/step - loss: 0.0495 - accuracy: 0.9857 - val_loss: 0.0760 - val_accuracy: 0.9755\n",
      "Epoch 12/25\n",
      "296/296 [==============================] - 28s 95ms/step - loss: 0.0381 - accuracy: 0.9895 - val_loss: 0.0445 - val_accuracy: 0.9890\n",
      "38/38 [==============================] - 1s 24ms/step\n",
      "149/149 [==============================] - 3s 23ms/step\n",
      "73/73 [==============================] - 2s 24ms/step\n",
      "0.9583875162548765\n",
      "Epoch 1/25\n",
      "296/296 [==============================] - 29s 98ms/step - loss: 0.1649 - accuracy: 0.9543 - val_loss: 0.2366 - val_accuracy: 0.9342\n",
      "Epoch 2/25\n",
      "296/296 [==============================] - 28s 95ms/step - loss: 0.1242 - accuracy: 0.9640 - val_loss: 0.1933 - val_accuracy: 0.9401\n",
      "Epoch 3/25\n",
      "296/296 [==============================] - 28s 95ms/step - loss: 0.0811 - accuracy: 0.9757 - val_loss: 0.0812 - val_accuracy: 0.9781\n",
      "Epoch 4/25\n",
      "296/296 [==============================] - 28s 95ms/step - loss: 0.0451 - accuracy: 0.9869 - val_loss: 0.0240 - val_accuracy: 0.9932\n",
      "Epoch 5/25\n",
      "296/296 [==============================] - 28s 94ms/step - loss: 0.0359 - accuracy: 0.9911 - val_loss: 0.0352 - val_accuracy: 0.9882\n",
      "Epoch 6/25\n",
      "296/296 [==============================] - 28s 95ms/step - loss: 0.0508 - accuracy: 0.9873 - val_loss: 0.0772 - val_accuracy: 0.9781\n",
      "Epoch 7/25\n",
      "296/296 [==============================] - 28s 95ms/step - loss: 0.0814 - accuracy: 0.9755 - val_loss: 0.1116 - val_accuracy: 0.9688\n",
      "Epoch 8/25\n",
      "296/296 [==============================] - 28s 95ms/step - loss: 0.0480 - accuracy: 0.9873 - val_loss: 0.0327 - val_accuracy: 0.9941\n",
      "Epoch 9/25\n",
      "296/296 [==============================] - 28s 95ms/step - loss: 0.0381 - accuracy: 0.9885 - val_loss: 0.0251 - val_accuracy: 0.9949\n",
      "Epoch 10/25\n",
      "296/296 [==============================] - 28s 95ms/step - loss: 0.0439 - accuracy: 0.9893 - val_loss: 0.0406 - val_accuracy: 0.9899\n",
      "Epoch 11/25\n",
      "296/296 [==============================] - 28s 95ms/step - loss: 0.0397 - accuracy: 0.9893 - val_loss: 0.0085 - val_accuracy: 0.9975\n",
      "Epoch 12/25\n",
      "296/296 [==============================] - 28s 94ms/step - loss: 0.0364 - accuracy: 0.9905 - val_loss: 0.0483 - val_accuracy: 0.9857\n",
      "Epoch 13/25\n",
      "296/296 [==============================] - 28s 95ms/step - loss: 0.0431 - accuracy: 0.9889 - val_loss: 0.0448 - val_accuracy: 0.9831\n",
      "Epoch 14/25\n",
      "296/296 [==============================] - 28s 95ms/step - loss: 0.0555 - accuracy: 0.9847 - val_loss: 0.0374 - val_accuracy: 0.9890\n",
      "Epoch 15/25\n",
      "296/296 [==============================] - 28s 94ms/step - loss: 0.0383 - accuracy: 0.9909 - val_loss: 0.0575 - val_accuracy: 0.9806\n",
      "Epoch 16/25\n",
      "296/296 [==============================] - 28s 95ms/step - loss: 0.0345 - accuracy: 0.9903 - val_loss: 0.0555 - val_accuracy: 0.9857\n",
      "Epoch 17/25\n",
      "296/296 [==============================] - 28s 94ms/step - loss: 0.0375 - accuracy: 0.9900 - val_loss: 0.1068 - val_accuracy: 0.9730\n",
      "Epoch 18/25\n",
      "296/296 [==============================] - 28s 95ms/step - loss: 0.0396 - accuracy: 0.9889 - val_loss: 0.0376 - val_accuracy: 0.9924\n",
      "Epoch 19/25\n",
      "296/296 [==============================] - 28s 95ms/step - loss: 0.0267 - accuracy: 0.9920 - val_loss: 0.0215 - val_accuracy: 0.9941\n",
      "38/38 [==============================] - 1s 23ms/step\n",
      "149/149 [==============================] - 4s 24ms/step\n",
      "73/73 [==============================] - 2s 24ms/step\n",
      "0.9592544429995665\n",
      "Epoch 1/25\n",
      "296/296 [==============================] - 29s 97ms/step - loss: 0.0707 - accuracy: 0.9803 - val_loss: 0.0438 - val_accuracy: 0.9857\n",
      "Epoch 2/25\n",
      "296/296 [==============================] - 28s 95ms/step - loss: 0.0708 - accuracy: 0.9813 - val_loss: 0.0524 - val_accuracy: 0.9865\n",
      "Epoch 3/25\n",
      "296/296 [==============================] - 28s 94ms/step - loss: 0.0795 - accuracy: 0.9777 - val_loss: 0.0545 - val_accuracy: 0.9899\n",
      "Epoch 4/25\n",
      "296/296 [==============================] - 28s 94ms/step - loss: 0.0840 - accuracy: 0.9803 - val_loss: 0.0481 - val_accuracy: 0.9873\n",
      "Epoch 5/25\n",
      "296/296 [==============================] - 28s 96ms/step - loss: 0.0272 - accuracy: 0.9928 - val_loss: 0.0318 - val_accuracy: 0.9958\n",
      "Epoch 6/25\n",
      "296/296 [==============================] - 28s 94ms/step - loss: 0.0186 - accuracy: 0.9954 - val_loss: 0.0367 - val_accuracy: 0.9907\n",
      "Epoch 7/25\n",
      "296/296 [==============================] - 28s 94ms/step - loss: 0.0236 - accuracy: 0.9938 - val_loss: 0.0816 - val_accuracy: 0.9823\n",
      "Epoch 8/25\n",
      "296/296 [==============================] - 28s 94ms/step - loss: 0.0362 - accuracy: 0.9887 - val_loss: 0.0310 - val_accuracy: 0.9941\n",
      "Epoch 9/25\n",
      "296/296 [==============================] - 28s 94ms/step - loss: 0.0367 - accuracy: 0.9907 - val_loss: 0.0255 - val_accuracy: 0.9941\n",
      "Epoch 10/25\n",
      "296/296 [==============================] - 28s 95ms/step - loss: 0.0202 - accuracy: 0.9948 - val_loss: 0.0173 - val_accuracy: 0.9958\n",
      "Epoch 11/25\n",
      "296/296 [==============================] - 28s 94ms/step - loss: 0.0367 - accuracy: 0.9907 - val_loss: 0.0353 - val_accuracy: 0.9907\n",
      "Epoch 12/25\n",
      "296/296 [==============================] - 28s 94ms/step - loss: 0.0203 - accuracy: 0.9948 - val_loss: 0.0253 - val_accuracy: 0.9941\n",
      "Epoch 13/25\n",
      "296/296 [==============================] - 28s 94ms/step - loss: 0.0096 - accuracy: 0.9972 - val_loss: 0.0223 - val_accuracy: 0.9966\n",
      "Epoch 14/25\n",
      "296/296 [==============================] - 28s 94ms/step - loss: 0.0103 - accuracy: 0.9972 - val_loss: 0.0192 - val_accuracy: 0.9975\n",
      "Epoch 15/25\n",
      "296/296 [==============================] - 28s 94ms/step - loss: 0.0256 - accuracy: 0.9918 - val_loss: 0.0540 - val_accuracy: 0.9865\n",
      "Epoch 16/25\n",
      "296/296 [==============================] - 28s 94ms/step - loss: 0.0589 - accuracy: 0.9847 - val_loss: 0.1532 - val_accuracy: 0.9629\n",
      "Epoch 17/25\n",
      "296/296 [==============================] - 28s 94ms/step - loss: 0.0443 - accuracy: 0.9883 - val_loss: 0.0663 - val_accuracy: 0.9814\n",
      "Epoch 18/25\n",
      "296/296 [==============================] - 28s 95ms/step - loss: 0.0189 - accuracy: 0.9946 - val_loss: 0.0825 - val_accuracy: 0.9797\n",
      "38/38 [==============================] - 1s 23ms/step\n",
      "149/149 [==============================] - 4s 24ms/step\n",
      "73/73 [==============================] - 2s 24ms/step\n",
      "0.9705244906805375\n",
      "Epoch 1/25\n",
      "296/296 [==============================] - 29s 98ms/step - loss: 0.0279 - accuracy: 0.9922 - val_loss: 0.0105 - val_accuracy: 0.9983\n",
      "Epoch 2/25\n",
      "296/296 [==============================] - 28s 95ms/step - loss: 0.0306 - accuracy: 0.9930 - val_loss: 0.0210 - val_accuracy: 0.9941\n",
      "Epoch 3/25\n",
      "296/296 [==============================] - 28s 94ms/step - loss: 0.0650 - accuracy: 0.9859 - val_loss: 0.0672 - val_accuracy: 0.9840\n",
      "Epoch 4/25\n",
      "296/296 [==============================] - 28s 95ms/step - loss: 0.0243 - accuracy: 0.9936 - val_loss: 0.0122 - val_accuracy: 0.9983\n",
      "Epoch 5/25\n",
      "296/296 [==============================] - 28s 94ms/step - loss: 0.0373 - accuracy: 0.9901 - val_loss: 0.0236 - val_accuracy: 0.9941\n",
      "Epoch 6/25\n",
      "296/296 [==============================] - 28s 95ms/step - loss: 0.0327 - accuracy: 0.9918 - val_loss: 0.0115 - val_accuracy: 0.9975\n",
      "Epoch 7/25\n",
      "296/296 [==============================] - 28s 95ms/step - loss: 0.0296 - accuracy: 0.9920 - val_loss: 0.0151 - val_accuracy: 0.9975\n",
      "Epoch 8/25\n",
      "296/296 [==============================] - 28s 94ms/step - loss: 0.0224 - accuracy: 0.9944 - val_loss: 0.0206 - val_accuracy: 0.9958\n",
      "Epoch 9/25\n",
      "296/296 [==============================] - 28s 96ms/step - loss: 0.0126 - accuracy: 0.9974 - val_loss: 0.0195 - val_accuracy: 0.9941\n",
      "38/38 [==============================] - 1s 24ms/step\n",
      "149/149 [==============================] - 4s 23ms/step\n",
      "73/73 [==============================] - 2s 24ms/step\n",
      "0.9735587342869527\n",
      "Average validation accuracy: 0.9940928270042194\n",
      "Average training accuracy: 0.9982696771470774\n",
      "Average test accuracy: 0.9641959254443\n"
     ]
    }
   ],
   "source": [
    "\n",
    "\n",
    "from sklearn.model_selection import StratifiedShuffleSplit\n",
    "from tensorflow.keras.models import Sequential\n",
    "from tensorflow.keras.layers import Dense, GlobalAveragePooling2D, BatchNormalization, Dropout\n",
    "from tensorflow.keras.models import save_model\n",
    "from sklearn.metrics import accuracy_score\n",
    "import numpy as np\n",
    "from collections import defaultdict\n",
    "\n",
    "stratified_splitter = StratifiedShuffleSplit(n_splits=5, test_size=0.2, random_state=42)\n",
    "val_scores = []\n",
    "train_scores = []\n",
    "test_scores = []\n",
    "misclassified_counts = defaultdict(int)\n",
    "\n",
    "i = 0\n",
    "for train_index, test_index in stratified_splitter.split(train_X, train_Y):\n",
    "    i += 1\n",
    "    X_train, X_val = train_X[train_index], train_X[test_index]\n",
    "    y_train, y_val = train_Y[train_index], train_Y[test_index]\n",
    "    \n",
    "    # Compile and fit the model\n",
    "    history = model.fit(X_train, y_train, validation_data=(X_val, y_val), steps_per_epoch=(len(X_train) // 16), epochs=25, verbose=1, callbacks=monitor) \n",
    "    model.save(f\"/kaggle/working/Belgium_mobile_newest_1_NSCT_MCI_m_3_{i}.h5\")\n",
    "    \n",
    "    # Validation set predictions\n",
    "    pred_val = model.predict(X_val).argmax(axis=-1)\n",
    "    val_acc = accuracy_score(y_val, pred_val)\n",
    "    val_scores.append(val_acc)\n",
    "    \n",
    "    # Training set predictions\n",
    "    pred_train = model.predict(X_train).argmax(axis=-1)\n",
    "    train_acc = accuracy_score(y_train, pred_train)\n",
    "    train_scores.append(train_acc)\n",
    "    \n",
    "    # Test set predictions\n",
    "    pred_test = model.predict(X_test).argmax(axis=-1)\n",
    "    test_acc = accuracy_score(y_test, pred_test)\n",
    "    print(test_acc)\n",
    "    test_scores.append(test_acc)\n",
    "    \n",
    "    # Identify misclassified classes in validation set\n",
    "    misclassified = np.where(pred_val != y_val)[0]\n",
    "    for idx in misclassified:\n",
    "        true_label = y_val[idx]\n",
    "        predicted_label = pred_val[idx]\n",
    "        misclassified_counts[(true_label, predicted_label)] += 1\n",
    "\n",
    "# Print overall misclassified classes\n",
    "# print(\"Overall misclassified classes:\")\n",
    "# for (true_label, predicted_label), count in misclassified_counts.items():\n",
    "#     print(f\"True label: {true_label}, Predicted label: {predicted_label}, Count: {count}\")\n",
    "\n",
    "# Print average scores\n",
    "print(f\"Average validation accuracy: {np.mean(val_scores)}\")\n",
    "print(f\"Average training accuracy: {np.mean(train_scores)}\")\n",
    "print(f\"Average test accuracy: {np.mean(test_scores)}\")\n"
   ]
  },
  {
   "cell_type": "code",
   "execution_count": 27,
   "id": "56c6c8c6",
   "metadata": {
    "execution": {
     "iopub.execute_input": "2024-06-06T21:24:38.677297Z",
     "iopub.status.busy": "2024-06-06T21:24:38.676096Z",
     "iopub.status.idle": "2024-06-06T21:24:38.685571Z",
     "shell.execute_reply": "2024-06-06T21:24:38.684333Z"
    },
    "papermill": {
     "duration": 1.914222,
     "end_time": "2024-06-06T21:24:38.687852",
     "exception": false,
     "start_time": "2024-06-06T21:24:36.773630",
     "status": "completed"
    },
    "tags": []
   },
   "outputs": [
    {
     "name": "stdout",
     "output_type": "stream",
     "text": [
      "Average for train set: 0.9982696771470774\n",
      "Std Deviation for train set: 0.0011816838995568609\n",
      "Average for val set: 0.9940928270042194\n",
      "Std Deviation for val set: 0.003958156759344651\n",
      "Average for test set: 0.9641959254443\n",
      "Std Deviation for test set: 0.006485168343048114\n"
     ]
    }
   ],
   "source": [
    "\n",
    "print(\"Average for train set:\",np.mean(train_scores))\n",
    "print(\"Std Deviation for train set:\",np.std(train_scores))\n",
    "print(\"Average for val set:\",np.mean(val_scores))\n",
    "print(\"Std Deviation for val set:\",np.std(val_scores))\n",
    "print(\"Average for test set:\",np.mean(test_scores))\n",
    "print(\"Std Deviation for test set:\",np.std(test_scores))"
   ]
  },
  {
   "cell_type": "code",
   "execution_count": 28,
   "id": "16bb1cba",
   "metadata": {
    "execution": {
     "iopub.execute_input": "2024-06-06T21:24:42.458446Z",
     "iopub.status.busy": "2024-06-06T21:24:42.458052Z",
     "iopub.status.idle": "2024-06-06T21:24:42.463362Z",
     "shell.execute_reply": "2024-06-06T21:24:42.462330Z"
    },
    "papermill": {
     "duration": 1.94474,
     "end_time": "2024-06-06T21:24:42.465521",
     "exception": false,
     "start_time": "2024-06-06T21:24:40.520781",
     "status": "completed"
    },
    "tags": []
   },
   "outputs": [],
   "source": [
    "# from tensorflow.keras.applications import MobileNetV2\n",
    "# mb=MobileNetV2(include_top=False,input_shape=(224,224,3),weights='imagenet')\n",
    "# model = Sequential()\n",
    "# model.add(mb)\n",
    "# model.add(Dropout(0.5))\n",
    "# model.add(Flatten())\n",
    "# model.add(Dense(units = 512, activation = 'relu'))\n",
    "# model.add(BatchNormalization())\n",
    "# model.add(Dropout(0.5))\n",
    "# model.add(Dense(units = 512, activation = 'relu'))\n",
    "# model.add(BatchNormalization())\n",
    "# model.add(Dense(units =512 , activation = 'relu'))\n",
    "# model.add(BatchNormalization())\n",
    "# model.add(Dense(units = 62 , activation = 'softmax'))\n",
    "\n",
    "# model.summary()\n",
    "# model.compile(optimizer = keras.optimizers.legacy.Adam(lr=0.0001), loss = 'sparse_categorical_crossentropy', metrics = ['accuracy'])"
   ]
  },
  {
   "cell_type": "code",
   "execution_count": 29,
   "id": "94ec9952",
   "metadata": {
    "execution": {
     "iopub.execute_input": "2024-06-06T21:24:46.149419Z",
     "iopub.status.busy": "2024-06-06T21:24:46.148439Z",
     "iopub.status.idle": "2024-06-06T21:24:46.155662Z",
     "shell.execute_reply": "2024-06-06T21:24:46.154536Z"
    },
    "papermill": {
     "duration": 1.856009,
     "end_time": "2024-06-06T21:24:46.158173",
     "exception": false,
     "start_time": "2024-06-06T21:24:44.302164",
     "status": "completed"
    },
    "tags": []
   },
   "outputs": [],
   "source": [
    "# from sklearn.model_selection import StratifiedShuffleSplit\n",
    "# from tensorflow.keras.models import Sequential\n",
    "# from tensorflow.keras.layers import Dense, GlobalAveragePooling2D, BatchNormalization, Dropout\n",
    "# from tensorflow.keras.models import save_model\n",
    "# from sklearn.metrics import accuracy_score\n",
    "# import numpy as np\n",
    "# from collections import defaultdict\n",
    "\n",
    "# stratified_splitter = StratifiedShuffleSplit(n_splits=5, test_size=0.2, random_state=42)\n",
    "# val_scores = []\n",
    "# train_scores = []\n",
    "# test_scores = []\n",
    "# misclassified_counts = defaultdict(int)\n",
    "\n",
    "# i = 0\n",
    "# for train_index, test_index in stratified_splitter.split(train_X, train_Y):\n",
    "#     i += 1\n",
    "#     X_train, X_val = train_X[train_index], train_X[test_index]\n",
    "#     y_train, y_val = train_Y[train_index], train_Y[test_index]\n",
    "    \n",
    "#     # Compile and fit the model\n",
    "#     history = model.fit(X_train, y_train, validation_data=(X_val, y_val), steps_per_epoch=(len(X_train) // 16), epochs=25, verbose=1, callbacks=monitor) \n",
    "#     model.save(f\"/kaggle/working/Belgium_mobile_NSCT_MCI_m_3_{i}.h5\")\n",
    "    \n",
    "#     # Validation set predictions\n",
    "#     pred_val = model.predict(X_val).argmax(axis=-1)\n",
    "#     val_acc = accuracy_score(y_val, pred_val)\n",
    "#     val_scores.append(val_acc)\n",
    "    \n",
    "#     # Training set predictions\n",
    "#     pred_train = model.predict(X_train).argmax(axis=-1)\n",
    "#     train_acc = accuracy_score(y_train, pred_train)\n",
    "#     train_scores.append(train_acc)\n",
    "    \n",
    "#     # Test set predictions\n",
    "#     pred_test = model.predict(X_test).argmax(axis=-1)\n",
    "#     test_acc = accuracy_score(y_test, pred_test)\n",
    "#     print(test_acc)\n",
    "#     test_scores.append(test_acc)\n",
    "    \n",
    "#     # Identify misclassified classes in validation set\n",
    "#     misclassified = np.where(pred_val != y_val)[0]\n",
    "#     for idx in misclassified:\n",
    "#         true_label = y_val[idx]\n",
    "#         predicted_label = pred_val[idx]\n",
    "#         misclassified_counts[(true_label, predicted_label)] += 1\n",
    "\n",
    "# # Print overall misclassified classes\n",
    "# # print(\"Overall misclassified classes:\")\n",
    "# # for (true_label, predicted_label), count in misclassified_counts.items():\n",
    "# #     print(f\"True label: {true_label}, Predicted label: {predicted_label}, Count: {count}\")\n",
    "\n",
    "# # Print average scores\n",
    "# print(f\"Average validation accuracy: {np.mean(val_scores)}\")\n",
    "# print(f\"Average training accuracy: {np.mean(train_scores)}\")\n",
    "# print(f\"Average test accuracy: {np.mean(test_scores)}\")\n"
   ]
  },
  {
   "cell_type": "code",
   "execution_count": 30,
   "id": "71fa6530",
   "metadata": {
    "execution": {
     "iopub.execute_input": "2024-06-06T21:24:49.895880Z",
     "iopub.status.busy": "2024-06-06T21:24:49.895338Z",
     "iopub.status.idle": "2024-06-06T21:24:49.901893Z",
     "shell.execute_reply": "2024-06-06T21:24:49.900821Z"
    },
    "papermill": {
     "duration": 1.857728,
     "end_time": "2024-06-06T21:24:49.904050",
     "exception": false,
     "start_time": "2024-06-06T21:24:48.046322",
     "status": "completed"
    },
    "tags": []
   },
   "outputs": [],
   "source": [
    "# import gc\n",
    "# from sklearn.model_selection import StratifiedShuffleSplit\n",
    "# from tensorflow.keras.models import Sequential\n",
    "# from tensorflow.keras.layers import Dense, GlobalAveragePooling2D, BatchNormalization, Dropout\n",
    "# from tensorflow.keras.models import save_model\n",
    "# from tensorflow.keras import backend as K\n",
    "# import numpy as np\n",
    "\n",
    "# # Assuming train_X and train_Y are already defined\n",
    "# # Assuming X_test and y_test are already defined\n",
    "\n",
    "# stratified_splitter = StratifiedShuffleSplit(n_splits=5, test_size=0.2, random_state=42)\n",
    "# val_scores = []\n",
    "# train_scores = []\n",
    "# test_scores = []\n",
    "\n",
    "# for i, (train_index, test_index) in enumerate(stratified_splitter.split(train_X, train_Y), 1):\n",
    "#     X_train, X_val = train_X[train_index], train_X[test_index]\n",
    "#     y_train, y_val = train_Y[train_index], train_Y[test_index]\n",
    "\n",
    "# #     model.compile(optimizer = optim, loss = 'sparse_categorical_crossentropy', metrics = ['accuracy'])\n",
    "#     history = model.fit(X_train, y_train, validation_data=(X_val, y_val), \n",
    "#                         steps_per_epoch=len(X_train) // 16, epochs=25, verbose=1, callbacks=[monitor])\n",
    "\n",
    "#     # Save the model\n",
    "#     model.save(f\"/kaggle/working/Belgium_MB_WO_3_{i}.h5\")\n",
    "\n",
    "# #     # Evaluate the model\n",
    "# #     pred_val = model.predict(X_val).argmax(axis=-1)\n",
    "# #     val_acc = accuracy_score(y_val, pred_val)\n",
    "# #     val_scores.append(val_acc)\n",
    "\n",
    "# #     pred_train = model.predict(X_train).argmax(axis=-1)\n",
    "# #     train_acc = accuracy_score(y_train, pred_train)\n",
    "# #     train_scores.append(train_acc)\n",
    "\n",
    "# #     pred_test = model.predict(X_test).argmax(axis=-1)\n",
    "# #     test_acc = accuracy_score(y_test, pred_test)\n",
    "# #     print(test_acc)\n",
    "# #     test_scores.append(test_acc)\n",
    "\n",
    "#     # Clear session to free up memory\n",
    "#     K.clear_session()\n",
    "#     gc.collect()\n",
    "\n",
    "# print(f\"Validation scores: {val_scores}\")\n",
    "# print(f\"Training scores: {train_scores}\")\n",
    "# print(f\"Test scores: {test_scores}\")"
   ]
  },
  {
   "cell_type": "code",
   "execution_count": 31,
   "id": "75df6f68",
   "metadata": {
    "execution": {
     "iopub.execute_input": "2024-06-06T21:24:53.587609Z",
     "iopub.status.busy": "2024-06-06T21:24:53.587024Z",
     "iopub.status.idle": "2024-06-06T21:24:53.592193Z",
     "shell.execute_reply": "2024-06-06T21:24:53.591112Z"
    },
    "papermill": {
     "duration": 1.88867,
     "end_time": "2024-06-06T21:24:53.594423",
     "exception": false,
     "start_time": "2024-06-06T21:24:51.705753",
     "status": "completed"
    },
    "tags": []
   },
   "outputs": [],
   "source": [
    "# from keras.models import load_model\n",
    "# res_1 = load_model(\"/kaggle/working/Belgium_mobile_NSCT_MCI_m_3_1.h5\")\n",
    "# res_2 = load_model(\"/kaggle/input/chinese-mci-models/Chinese_RES_MCI_2.h5\")\n",
    "# res_3 = load_model(\"/kaggle/input/chinese-mci-models/Chinese_RES_MCI_3.h5\")\n",
    "# res_4 = load_model(\"/kaggle/input/chinese-mci-models/Chinese_RES_MCI_4.h5\")\n",
    "# res_5 = load_model(\"/kaggle/input/chinese-mci-models/Chinese_RES_MCI_5.h5\")"
   ]
  },
  {
   "cell_type": "code",
   "execution_count": 32,
   "id": "2e273109",
   "metadata": {
    "execution": {
     "iopub.execute_input": "2024-06-06T21:24:57.244158Z",
     "iopub.status.busy": "2024-06-06T21:24:57.243077Z",
     "iopub.status.idle": "2024-06-06T21:24:57.248792Z",
     "shell.execute_reply": "2024-06-06T21:24:57.247815Z"
    },
    "papermill": {
     "duration": 1.836092,
     "end_time": "2024-06-06T21:24:57.251152",
     "exception": false,
     "start_time": "2024-06-06T21:24:55.415060",
     "status": "completed"
    },
    "tags": []
   },
   "outputs": [],
   "source": [
    "# test_scores = []\n",
    "# pred = res_1.predict(X_train,verbose=0)\n",
    "# pred = pred.argmax(axis=-1)\n",
    "# test_scores.append(accuracy_score(y_train, pred))\n",
    "\n",
    "# pred = res_2.predict(X_train,verbose=0)\n",
    "# pred = pred.argmax(axis=-1)\n",
    "# test_scores.append(accuracy_score(y_train, pred))\n",
    "\n",
    "# pred = res_3.predict(X_train,verbose=0)\n",
    "# pred = pred.argmax(axis=-1)\n",
    "# test_scores.append(accuracy_score(y_train, pred))\n",
    "\n",
    "# pred = res_4.predict(X_train,verbose=0)\n",
    "# pred = pred.argmax(axis=-1)\n",
    "# test_scores.append(accuracy_score(y_train, pred))\n",
    "\n",
    "# pred = res_5.predict(X_train,verbose=0)\n",
    "# pred = pred.argmax(axis=-1)\n",
    "# test_scores.append(accuracy_score(y_train, pred))\n",
    "\n",
    "# print(np.mean(test_scores))"
   ]
  },
  {
   "cell_type": "code",
   "execution_count": 33,
   "id": "db5f1ccd",
   "metadata": {
    "execution": {
     "iopub.execute_input": "2024-06-06T21:25:00.925960Z",
     "iopub.status.busy": "2024-06-06T21:25:00.925237Z",
     "iopub.status.idle": "2024-06-06T21:25:00.929852Z",
     "shell.execute_reply": "2024-06-06T21:25:00.928894Z"
    },
    "papermill": {
     "duration": 1.832062,
     "end_time": "2024-06-06T21:25:00.932118",
     "exception": false,
     "start_time": "2024-06-06T21:24:59.100056",
     "status": "completed"
    },
    "tags": []
   },
   "outputs": [],
   "source": [
    "# import numpy as np\n",
    "# from sklearn.metrics import confusion_matrix\n",
    "\n",
    "# cm = confusion_matrix(y_test, pred)\n",
    "\n",
    "# # Display the confusion matrix\n",
    "# print(\"Confusion Matrix:\")\n",
    "# print(cm)"
   ]
  },
  {
   "cell_type": "code",
   "execution_count": 34,
   "id": "0bba8786",
   "metadata": {
    "execution": {
     "iopub.execute_input": "2024-06-06T21:25:04.616932Z",
     "iopub.status.busy": "2024-06-06T21:25:04.616228Z",
     "iopub.status.idle": "2024-06-06T21:25:04.621387Z",
     "shell.execute_reply": "2024-06-06T21:25:04.620282Z"
    },
    "papermill": {
     "duration": 1.836818,
     "end_time": "2024-06-06T21:25:04.623619",
     "exception": false,
     "start_time": "2024-06-06T21:25:02.786801",
     "status": "completed"
    },
    "tags": []
   },
   "outputs": [],
   "source": [
    "# from keras.models import load_model\n",
    "# res_1 = load_model(\"/kaggle/working/Belgium_mobile_NSCT_MCI_m_3_1.h5\")\n",
    "# res_2 = load_model(\"/kaggle/input/chinese-mci-models/Chinese_RES_MCI_2.h5\")\n",
    "# res_3 = load_model(\"/kaggle/input/chinese-mci-models/Chinese_RES_MCI_3.h5\")\n",
    "# res_4 = load_model(\"/kaggle/input/chinese-mci-models/Chinese_RES_MCI_4.h5\")\n",
    "# res_5 = load_model(\"/kaggle/input/chinese-mci-models/Chinese_RES_MCI_5.h5\")"
   ]
  },
  {
   "cell_type": "code",
   "execution_count": 35,
   "id": "e29df498",
   "metadata": {
    "execution": {
     "iopub.execute_input": "2024-06-06T21:25:08.241725Z",
     "iopub.status.busy": "2024-06-06T21:25:08.241314Z",
     "iopub.status.idle": "2024-06-06T21:25:08.246788Z",
     "shell.execute_reply": "2024-06-06T21:25:08.245766Z"
    },
    "papermill": {
     "duration": 1.863741,
     "end_time": "2024-06-06T21:25:08.249146",
     "exception": false,
     "start_time": "2024-06-06T21:25:06.385405",
     "status": "completed"
    },
    "tags": []
   },
   "outputs": [],
   "source": [
    "# test_scores = []\n",
    "# # train_scores =\n",
    "# pred = res_1.predict(X_test,verbose=0)\n",
    "# pred = pred.argmax(axis=-1)\n",
    "# test_scores.append(accuracy_score(y_test, pred))\n",
    "\n",
    "# pred = res_2.predict(X_test,verbose=0)\n",
    "# pred = pred.argmax(axis=-1)\n",
    "# test_scores.append(accuracy_score(y_test, pred))\n",
    "\n",
    "# pred = res_3.predict(X_test,verbose=0)\n",
    "# pred = pred.argmax(axis=-1)\n",
    "# test_scores.append(accuracy_score(y_test, pred))\n",
    "\n",
    "# pred = res_4.predict(X_test,verbose=0)\n",
    "# pred = pred.argmax(axis=-1)\n",
    "# test_scores.append(accuracy_score(y_test, pred))\n",
    "\n",
    "# pred = res_5.predict(X_test,verbose=0)\n",
    "# pred = pred.argmax(axis=-1)\n",
    "# test_scores.append(accuracy_score(y_test, pred))\n",
    "\n",
    "# print(np.mean(test_scores))"
   ]
  },
  {
   "cell_type": "code",
   "execution_count": 36,
   "id": "10284385",
   "metadata": {
    "execution": {
     "iopub.execute_input": "2024-06-06T21:25:11.935487Z",
     "iopub.status.busy": "2024-06-06T21:25:11.934727Z",
     "iopub.status.idle": "2024-06-06T21:25:11.939966Z",
     "shell.execute_reply": "2024-06-06T21:25:11.938878Z"
    },
    "papermill": {
     "duration": 1.858254,
     "end_time": "2024-06-06T21:25:11.942251",
     "exception": false,
     "start_time": "2024-06-06T21:25:10.083997",
     "status": "completed"
    },
    "tags": []
   },
   "outputs": [],
   "source": [
    "# #### Without\n",
    "\n",
    "# from tensorflow.keras.applications import MobileNetV2\n",
    "# mb=MobileNetV2(include_top=False,input_shape=(96,96,3),weights='imagenet')\n",
    "# mb_model = Sequential()\n",
    "# mb_model.add(mb)\n",
    "# mb_model.add(Dropout(0.5))\n",
    "# mb_model.add(Flatten())\n",
    "# mb_model.add(Dense(units = 512, activation = 'relu'))\n",
    "# mb_model.add(BatchNormalization())\n",
    "# mb_model.add(Dense(units = 512, activation = 'relu'))\n",
    "# mb_model.add(BatchNormalization())\n",
    "# mb_model.add(Dense(units =512 , activation = 'relu'))\n",
    "# mb_model.add(BatchNormalization())\n",
    "# mb_model.add(Dense(units = 58 , activation = 'softmax'))\n",
    "\n",
    "# mb_model.summary()"
   ]
  },
  {
   "cell_type": "code",
   "execution_count": 37,
   "id": "6b5c8f1a",
   "metadata": {
    "execution": {
     "iopub.execute_input": "2024-06-06T21:25:15.557251Z",
     "iopub.status.busy": "2024-06-06T21:25:15.556383Z",
     "iopub.status.idle": "2024-06-06T21:25:15.561893Z",
     "shell.execute_reply": "2024-06-06T21:25:15.560793Z"
    },
    "papermill": {
     "duration": 1.816906,
     "end_time": "2024-06-06T21:25:15.564261",
     "exception": false,
     "start_time": "2024-06-06T21:25:13.747355",
     "status": "completed"
    },
    "tags": []
   },
   "outputs": [],
   "source": [
    "# from keras.applications import ResNet50\n",
    "# from keras.regularizers import l2\n",
    "\n",
    "# resnet = ResNet50(weights='imagenet',pooling='avg', include_top=False, input_shape=(224,224,3))\n",
    "# model = Sequential()\n",
    "# model.add(resnet)\n",
    "# model.add(Flatten())\n",
    "# model.add(Dense(512,activation='relu'))\n",
    "# model.add(Dropout(0.5))\n",
    "# model.add(Dense(512,activation='relu'))\n",
    "# model.add(Dropout(0.5))\n",
    "# model.add(Dense(512,activation='relu'))\n",
    "# model.add(Dropout(0.5))\n",
    "# model.add(Dense(512,activation='relu'))\n",
    "# model.add( Dense(57, activation= 'softmax'))\n",
    "# model.summary()\n",
    "# model.compile(optimizer = keras.optimizers.legacy.Adam(lr=0.0002), loss = 'sparse_categorical_crossentropy', metrics = ['accuracy'])\n"
   ]
  },
  {
   "cell_type": "code",
   "execution_count": 38,
   "id": "281a4f0c",
   "metadata": {
    "execution": {
     "iopub.execute_input": "2024-06-06T21:25:19.251008Z",
     "iopub.status.busy": "2024-06-06T21:25:19.250166Z",
     "iopub.status.idle": "2024-06-06T21:25:19.256570Z",
     "shell.execute_reply": "2024-06-06T21:25:19.255581Z"
    },
    "papermill": {
     "duration": 1.886349,
     "end_time": "2024-06-06T21:25:19.259328",
     "exception": false,
     "start_time": "2024-06-06T21:25:17.372979",
     "status": "completed"
    },
    "tags": []
   },
   "outputs": [],
   "source": [
    "# from keras.layers import Dropout\n",
    "# from keras.applications import ResNet50\n",
    "# # from keras.regularizers import l2\n",
    "# # Define the model\n",
    "# resnet = ResNet50(weights='imagenet',pooling='avg', include_top=False, input_shape=(224,224,3))\n",
    "# res_model = Sequential()\n",
    "# res_model.add(resnet)\n",
    "# res_model.add(Flatten())\n",
    "# res_model.add(Dense(units=512, activation='relu', kernel_regularizer=l2(0.001)))\n",
    "# res_model.add(BatchNormalization())\n",
    "# res_model.add(Dropout(0.5))  # Add dropout layer\n",
    "# res_model.add(Dense(units=512, activation='relu', kernel_regularizer=l2(0.001)))\n",
    "# res_model.add(BatchNormalization())\n",
    "# res_model.add(Dropout(0.5))  # Add dropout layer\n",
    "# res_model.add(Dense(units=512, activation='relu', kernel_regularizer=l2(0.001)))\n",
    "# res_model.add(BatchNormalization())\n",
    "# res_model.add(Dropout(0.5))  # Add dropout layer\n",
    "# res_model.add(Dense(units=512, activation='relu', kernel_regularizer=l2(0.001)))\n",
    "# res_model.add(BatchNormalization())\n",
    "# res_model.add(Dropout(0.5))  # Add dropout layer\n",
    "# res_model.add(Dense(units=57, activation='softmax'))\n",
    "\n",
    "# # Compile the model\n",
    "# res_model.summary()"
   ]
  },
  {
   "cell_type": "code",
   "execution_count": 39,
   "id": "b293ceb3",
   "metadata": {
    "execution": {
     "iopub.execute_input": "2024-06-06T21:25:22.855885Z",
     "iopub.status.busy": "2024-06-06T21:25:22.855457Z",
     "iopub.status.idle": "2024-06-06T21:25:22.861883Z",
     "shell.execute_reply": "2024-06-06T21:25:22.860867Z"
    },
    "papermill": {
     "duration": 1.778529,
     "end_time": "2024-06-06T21:25:22.864381",
     "exception": false,
     "start_time": "2024-06-06T21:25:21.085852",
     "status": "completed"
    },
    "tags": []
   },
   "outputs": [],
   "source": [
    "# from sklearn.model_selection import StratifiedShuffleSplit\n",
    "\n",
    "# stratified_splitter = StratifiedShuffleSplit(n_splits=5, test_size=0.2, random_state=42)\n",
    "# i = 0\n",
    "# val = []\n",
    "# train = []\n",
    "# test = []\n",
    "# for train_index, test_index in stratified_splitter.split(train_X, train_Y ):\n",
    "#     i = i +1\n",
    "#     X_train, X_val = train_X[train_index], train_X[test_index]\n",
    "#     y_train, y_val =  train_Y[train_index], train_Y[test_index]\n",
    "\n",
    "#     alpha=0.0001\n",
    "#     optim = keras.optimizers.legacy.Adam(learning_rate=alpha)\n",
    "#     monitor = tf.keras.callbacks.EarlyStopping(monitor = 'val_loss',patience = 8,restore_best_weights = True, min_delta = 0.01)\n",
    "\n",
    "\n",
    "#     res_model.compile(optimizer = optim, loss = 'sparse_categorical_crossentropy', metrics = ['accuracy'])\n",
    "\n",
    "#     history = res_model.fit(X_train,y_train, validation_data=(X_val,y_val),steps_per_epoch=(len(X_train) // 32),epochs = 25,verbose=1,callbacks=[monitor]) \n",
    "#     res_model.save(f\"/kaggle/working/Chinese_RES_NSCT_MCI_mi_{i}.h5\")\n",
    "#     pred = res_model.predict(X_val)\n",
    "#     pred = pred.argmax(axis=-1)\n",
    "#     val.append(accuracy_score(y_val, pred))\n",
    "# #     print('ResNet Validation Data accuracy: ',accuracy_score(y_val, pred))\n",
    "#     pred = res_model.predict(X_train)\n",
    "#     pred = pred.argmax(axis=-1)\n",
    "#     train.append(accuracy_score(y_train,pred))\n",
    "#     pred = res_model.predict(X_test)\n",
    "#     pred = pred.argmax(axis=-1)\n",
    "#     test.append(accuracy_score(y_test, pred))\n",
    "    \n",
    "# avg_val = np.mean(val)\n",
    "# avg_train = np.mean(train)\n",
    "# avg_test= np.mean(test)\n",
    "# std_val = np.std(val)\n",
    "# std_train = np.std(train)\n",
    "# std_test = np.std(test)\n",
    "# # std_test = statistics.stdev(test)\n",
    "# print('Average train accuracy: ', avg_train,'std dev : ', std_train)\n",
    "# print('Average validation accuracy ', avg_val, 'std dev : ',std_val)\n",
    "# print('Average test accuracy: ', avg_test,'std dev : ', std_test)\n",
    "# print(train)\n",
    "# print(val)\n",
    "# print(test)"
   ]
  },
  {
   "cell_type": "code",
   "execution_count": 40,
   "id": "4b179c24",
   "metadata": {
    "execution": {
     "iopub.execute_input": "2024-06-06T21:25:26.560481Z",
     "iopub.status.busy": "2024-06-06T21:25:26.559581Z",
     "iopub.status.idle": "2024-06-06T21:25:26.566099Z",
     "shell.execute_reply": "2024-06-06T21:25:26.565092Z"
    },
    "papermill": {
     "duration": 1.834799,
     "end_time": "2024-06-06T21:25:26.568268",
     "exception": false,
     "start_time": "2024-06-06T21:25:24.733469",
     "status": "completed"
    },
    "tags": []
   },
   "outputs": [],
   "source": [
    "# from sklearn.model_selection import StratifiedShuffleSplit\n",
    "# from tensorflow.keras.models import Sequential\n",
    "# from tensorflow.keras.layers import Dense, GlobalAveragePooling2D, BatchNormalization, Dropout\n",
    "# from tensorflow.keras.models import save_model\n",
    "\n",
    "# stratified_splitter = StratifiedShuffleSplit(n_splits=5, test_size=0.2, random_state=42)\n",
    "# val_scores = []\n",
    "# train_scores = []\n",
    "# test_scores = []\n",
    "# i = 0\n",
    "# for train_index, test_index in stratified_splitter.split(train_X,train_Y):\n",
    "#     i=i+1\n",
    "#     X_train, X_val = train_X[train_index], train_X[test_index]\n",
    "#     y_train, y_val = train_Y[train_index], train_Y[test_index]\n",
    "    \n",
    "# #     model.compile(optimizer = optim, loss = 'sparse_categorical_crossentropy', metrics = ['accuracy'])\n",
    "#     history = model.fit(X_train,y_train, validation_data=(X_val,y_val),steps_per_epoch=(len(X_train) // 16),epochs = 25,verbose=1,callbacks=monitor) \n",
    "#     model.save(f\"/kaggle/working/Belgium_mobile_NSCT_MCI_m_3_{i}.h5\")\n",
    "#     pred = model.predict(X_val)\n",
    "#     pred = pred.argmax(axis=-1)\n",
    "#     val_acc =accuracy_score(y_val, pred)\n",
    "#     val_scores.append(val_acc)\n",
    "#     pred = model.predict(X_train)\n",
    "#     pred = pred.argmax(axis=-1)\n",
    "#     train_acc =accuracy_score(y_train, pred)\n",
    "#     train_scores.append(train_acc)\n",
    "#     pred = model.predict(X_test)\n",
    "#     pred = pred.argmax(axis=-1)\n",
    "#     test_acc =accuracy_score(y_test, pred)\n",
    "#     print(test_acc)\n",
    "#     test_scores.append(test_acc)\n",
    "\n",
    "#     misclassified = np.where(pred_val != y_val)[0]\n",
    "#     for idx in misclassified:\n",
    "#         true_label = y_val[idx]\n",
    "#         predicted_label = pred_val[idx]\n",
    "#         misclassified_counts[(true_label, predicted_label)] += 1\n",
    "\n",
    "# # Print overall misclassified classes\n",
    "# print(\"Overall misclassified classes:\")\n",
    "# for (true_label, predicted_label), count in misclassified_counts.items():\n",
    "#     print(f\"True label: {true_label}, Predicted label: {predicted_label}, Count: {count}\")\n",
    "\n",
    "# from IPython.display import FileLink\n",
    "# FileLink(r'/kaggle/working/Chinese_RES_NSCT_MCI_m_1_1.h5')\n"
   ]
  },
  {
   "cell_type": "code",
   "execution_count": 41,
   "id": "c3594c5d",
   "metadata": {
    "execution": {
     "iopub.execute_input": "2024-06-06T21:25:30.209135Z",
     "iopub.status.busy": "2024-06-06T21:25:30.208743Z",
     "iopub.status.idle": "2024-06-06T21:25:30.213430Z",
     "shell.execute_reply": "2024-06-06T21:25:30.212547Z"
    },
    "papermill": {
     "duration": 1.821264,
     "end_time": "2024-06-06T21:25:30.215758",
     "exception": false,
     "start_time": "2024-06-06T21:25:28.394494",
     "status": "completed"
    },
    "tags": []
   },
   "outputs": [],
   "source": [
    "# ## Withoutt\n",
    "# print(\"Average for train set:\",np.mean(train_scores))\n",
    "# print(\"Std Deviation for train set:\",np.std(train_scores))\n",
    "# print(\"Average for val set:\",np.mean(val_scores))\n",
    "# print(\"Std Deviation for val set:\",np.std(val_scores))\n",
    "# print(\"Average for test set:\",np.mean(test_scores))\n",
    "# print(\"Std Deviation for test set:\",np.std(test_scores))"
   ]
  },
  {
   "cell_type": "code",
   "execution_count": 42,
   "id": "efdcc1a3",
   "metadata": {
    "execution": {
     "iopub.execute_input": "2024-06-06T21:25:33.882305Z",
     "iopub.status.busy": "2024-06-06T21:25:33.881397Z",
     "iopub.status.idle": "2024-06-06T21:25:33.887991Z",
     "shell.execute_reply": "2024-06-06T21:25:33.886971Z"
    },
    "papermill": {
     "duration": 1.845766,
     "end_time": "2024-06-06T21:25:33.890325",
     "exception": false,
     "start_time": "2024-06-06T21:25:32.044559",
     "status": "completed"
    },
    "tags": []
   },
   "outputs": [],
   "source": [
    "# import os\n",
    "\n",
    "# def calculate_average_images_per_class(base_dir):\n",
    "#     \"\"\"\n",
    "#     Calculate the average number of images per class in the dataset.\n",
    "    \n",
    "#     Parameters:\n",
    "#     base_dir (str): The base directory containing class subdirectories.\n",
    "    \n",
    "#     Returns:\n",
    "#     float: The average number of images per class.\n",
    "#     \"\"\"\n",
    "#     # Dictionary to store the count of images for each class\n",
    "#     class_image_count = {}\n",
    "\n",
    "#     # Iterate over each class directory\n",
    "#     for class_name in os.listdir(base_dir):\n",
    "#         class_path = os.path.join(base_dir, class_name)\n",
    "        \n",
    "#         if os.path.isdir(class_path):\n",
    "#             # Count the number of images in the current class directory\n",
    "#             num_images = len([img for img in os.listdir(class_path) if img.endswith('.ppm')])\n",
    "#             class_image_count[class_name] = num_images\n",
    "\n",
    "#     # Calculate the average number of images per class\n",
    "#     average_images_per_class = sum(class_image_count.values()) / len(class_image_count)\n",
    "    \n",
    "#     return average_images_per_class\n",
    "\n",
    "# # Path to the directory containing your dataset\n",
    "# dataset_dir = '/kaggle/input/belgium-ts/BelgiumTSC_Training/Training'\n",
    "\n",
    "# # Calculate and print the average number of images per class\n",
    "# average_images = calculate_average_images_per_class(dataset_dir)\n",
    "# print(\"Average number of images per class:\", average_images)\n"
   ]
  },
  {
   "cell_type": "code",
   "execution_count": 43,
   "id": "f023f88e",
   "metadata": {
    "execution": {
     "iopub.execute_input": "2024-06-06T21:25:37.561382Z",
     "iopub.status.busy": "2024-06-06T21:25:37.560575Z",
     "iopub.status.idle": "2024-06-06T21:25:37.565472Z",
     "shell.execute_reply": "2024-06-06T21:25:37.564418Z"
    },
    "papermill": {
     "duration": 1.851838,
     "end_time": "2024-06-06T21:25:37.567677",
     "exception": false,
     "start_time": "2024-06-06T21:25:35.715839",
     "status": "completed"
    },
    "tags": []
   },
   "outputs": [],
   "source": [
    "# print(test_scores)"
   ]
  },
  {
   "cell_type": "code",
   "execution_count": 44,
   "id": "c0592354",
   "metadata": {
    "execution": {
     "iopub.execute_input": "2024-06-06T21:25:41.188560Z",
     "iopub.status.busy": "2024-06-06T21:25:41.188166Z",
     "iopub.status.idle": "2024-06-06T21:25:41.193255Z",
     "shell.execute_reply": "2024-06-06T21:25:41.192268Z"
    },
    "papermill": {
     "duration": 1.852406,
     "end_time": "2024-06-06T21:25:41.195499",
     "exception": false,
     "start_time": "2024-06-06T21:25:39.343093",
     "status": "completed"
    },
    "tags": []
   },
   "outputs": [],
   "source": [
    "# def show_images_of_all_classes(train_images,training_labels):\n",
    "#   num_cols =  8\n",
    "#   classes = len(set(y_train))\n",
    "#   if classes % num_cols == 0:\n",
    "#       num_rows =  classes / num_cols\n",
    "#   else:\n",
    "#       num_rows = int(classes / num_cols) + 1\n",
    "#   plt.figure(figsize=(15,15))\n",
    "#   i = 1\n",
    "#   for class_number in set(y_train):\n",
    "    \n",
    "#     indices = np.where(y_train == class_number)\n",
    "#     plt.subplot(num_rows,num_cols, i)\n",
    "#     i += 1\n",
    "#     plt.axis('off')\n",
    "#     plt.imshow(X_train[indices[0][0]])\n",
    "#     plt.title('Class :{0} [{1}] '.format(class_number,len(indices[0])))   #np.count_nonzero(labels == labels[index])))\n",
    "#   plt.show()\n",
    "\n",
    "# # show_images_of_all_classes(train_X,train_Y)"
   ]
  },
  {
   "cell_type": "code",
   "execution_count": null,
   "id": "02dff8e5",
   "metadata": {
    "papermill": {
     "duration": 1.815549,
     "end_time": "2024-06-06T21:25:44.856731",
     "exception": false,
     "start_time": "2024-06-06T21:25:43.041182",
     "status": "completed"
    },
    "tags": []
   },
   "outputs": [],
   "source": []
  },
  {
   "cell_type": "code",
   "execution_count": 45,
   "id": "ba0ebc9b",
   "metadata": {
    "execution": {
     "iopub.execute_input": "2024-06-06T21:25:48.484460Z",
     "iopub.status.busy": "2024-06-06T21:25:48.483316Z",
     "iopub.status.idle": "2024-06-06T21:25:48.488984Z",
     "shell.execute_reply": "2024-06-06T21:25:48.487942Z"
    },
    "papermill": {
     "duration": 1.818736,
     "end_time": "2024-06-06T21:25:48.491246",
     "exception": false,
     "start_time": "2024-06-06T21:25:46.672510",
     "status": "completed"
    },
    "tags": []
   },
   "outputs": [],
   "source": [
    "# def add_single_noise(noise,severity,data_directory):\n",
    "#   images = []\n",
    "#   labels = []\n",
    "  \n",
    "#   directories = [dir for dir in os.listdir(data_directory)\n",
    "#                  if os.path.isdir(os.path.join(data_directory,dir))] \n",
    "#   for dir in directories:\n",
    "#     current_directory = os.path.join(data_directory,dir)\n",
    "#     file_names = [os.path.join(current_directory,file) \n",
    "#                   for file in os.listdir(current_directory)\n",
    "#                   if file.endswith('.png')\n",
    "#                  ]\n",
    "    \n",
    "#     for image in file_names:\n",
    "#       img = cv2.imread(image)\n",
    "#       image_fromarray = Image.fromarray(img, 'RGB')\n",
    "#       resize_image = image_fromarray.resize((96, 96))\n",
    "#       resize_image = np.array(resize_image)\n",
    "#       corrupted_image = corrupt(resize_image, corruption_name=noise, severity=severity)\n",
    "#       images.append(corrupted_image)\n",
    "#       labels.append(int(dir))\n",
    "# #   print('Successfully Loadded  {0} images!'.format(len(images)))\n",
    "#   return np.array(images)/255,np.array(labels)"
   ]
  },
  {
   "cell_type": "code",
   "execution_count": 46,
   "id": "97d17fcb",
   "metadata": {
    "execution": {
     "iopub.execute_input": "2024-06-06T21:25:52.257488Z",
     "iopub.status.busy": "2024-06-06T21:25:52.256746Z",
     "iopub.status.idle": "2024-06-06T21:25:52.261307Z",
     "shell.execute_reply": "2024-06-06T21:25:52.260278Z"
    },
    "papermill": {
     "duration": 1.892827,
     "end_time": "2024-06-06T21:25:52.263435",
     "exception": false,
     "start_time": "2024-06-06T21:25:50.370608",
     "status": "completed"
    },
    "tags": []
   },
   "outputs": [],
   "source": [
    "# TEST_DATA_PATH = '/kaggle/input/chinese-mci-model'"
   ]
  },
  {
   "cell_type": "code",
   "execution_count": 47,
   "id": "5897cd3a",
   "metadata": {
    "execution": {
     "iopub.execute_input": "2024-06-06T21:25:55.883625Z",
     "iopub.status.busy": "2024-06-06T21:25:55.882631Z",
     "iopub.status.idle": "2024-06-06T21:25:55.888173Z",
     "shell.execute_reply": "2024-06-06T21:25:55.887136Z"
    },
    "papermill": {
     "duration": 1.818545,
     "end_time": "2024-06-06T21:25:55.890338",
     "exception": false,
     "start_time": "2024-06-06T21:25:54.071793",
     "status": "completed"
    },
    "tags": []
   },
   "outputs": [],
   "source": [
    "# for i in range(1,6):\n",
    "#             test_scores = []\n",
    "#             X_test,y_test = add_single_noise('impulse_noise',i,TEST_DATA_PATH)\n",
    "#             pred = res_1.predict(X_test,verbose=0)\n",
    "#             pred = pred.argmax(axis=-1)\n",
    "#             test_scores.append(accuracy_score(y_test, pred))\n",
    "#             pred = res_2.predict(X_test,verbose=0)\n",
    "#             pred = pred.argmax(axis=-1)\n",
    "#             test_scores.append(accuracy_score(y_test, pred))\n",
    "#             pred = res_3.predict(X_test,verbose=0)\n",
    "#             pred = pred.argmax(axis=-1)\n",
    "#             test_scores.append(accuracy_score(y_test, pred))\n",
    "#             pred = res_4.predict(X_test,verbose=0)\n",
    "#             pred = pred.argmax(axis=-1)\n",
    "#             test_scores.append(accuracy_score(y_test, pred))\n",
    "#             pred = res_5.predict(X_test,verbose=0)\n",
    "#             pred = pred.argmax(axis=-1)\n",
    "#             test_scores.append(accuracy_score(y_test, pred))\n",
    "#             print(np.mean(test_scores))\n",
    "#             print(np.std(test_scores))\n",
    "# #             print(test_scores)"
   ]
  },
  {
   "cell_type": "code",
   "execution_count": 48,
   "id": "2c8dff02",
   "metadata": {
    "execution": {
     "iopub.execute_input": "2024-06-06T21:25:59.543675Z",
     "iopub.status.busy": "2024-06-06T21:25:59.542905Z",
     "iopub.status.idle": "2024-06-06T21:25:59.547780Z",
     "shell.execute_reply": "2024-06-06T21:25:59.546783Z"
    },
    "papermill": {
     "duration": 1.810965,
     "end_time": "2024-06-06T21:25:59.549948",
     "exception": false,
     "start_time": "2024-06-06T21:25:57.738983",
     "status": "completed"
    },
    "tags": []
   },
   "outputs": [],
   "source": [
    "# import re\n",
    "\n",
    "# def update_labels(labels):\n",
    "#     updated_labels = []\n",
    "#     for label in labels:\n",
    "#         # Use regular expression to extract the number before the first underscore\n",
    "#         match = re.match(r'^(\\d+)_', label)\n",
    "#         if match:\n",
    "#             # Extract the matched number and convert it to an integer\n",
    "#             updated_label = int(match.group(1))\n",
    "#             updated_labels.append(updated_label)\n",
    "#         else:\n",
    "#             # If the label doesn't match the specified format, keep it unchanged\n",
    "#             updated_labels.append(label)\n",
    "#     return updated_labels\n",
    "\n",
    "\n"
   ]
  },
  {
   "cell_type": "code",
   "execution_count": 49,
   "id": "9d2256fb",
   "metadata": {
    "execution": {
     "iopub.execute_input": "2024-06-06T21:26:03.226034Z",
     "iopub.status.busy": "2024-06-06T21:26:03.225349Z",
     "iopub.status.idle": "2024-06-06T21:26:03.230790Z",
     "shell.execute_reply": "2024-06-06T21:26:03.229784Z"
    },
    "papermill": {
     "duration": 1.859369,
     "end_time": "2024-06-06T21:26:03.232987",
     "exception": false,
     "start_time": "2024-06-06T21:26:01.373618",
     "status": "completed"
    },
    "tags": []
   },
   "outputs": [],
   "source": [
    "# def mask_surrounding_area(img):\n",
    "#     # Load the image\n",
    "#     # img = cv2.imread(image_path)\n",
    "#     # if img is None:\n",
    "#     #     print(\"Error: Image could not be read.\")\n",
    "#     #     return\n",
    "\n",
    "#     # Get image dimensions\n",
    "#     height, width = 224,224\n",
    "\n",
    "#     # Calculate dimensions for the central 70%\n",
    "#     new_width = int(width * 0.7)\n",
    "#     new_height = int(height * 0.7)\n",
    "\n",
    "#     # Calculate the top-left corner of the bounding box\n",
    "#     x = (width - new_width) // 2\n",
    "#     y = (height - new_height) // 2\n",
    "\n",
    "#     # Create a mask of zeros (black) with the same dimensions as the image\n",
    "#     mask = np.zeros_like(img)\n",
    "\n",
    "#     # Set the central 70% area of the mask to white (255)\n",
    "#     mask[y:y+new_height, x:x+new_width] = 255\n",
    "\n",
    "#     # Apply the mask using bitwise operations\n",
    "#     masked_image = cv2.bitwise_and(img, mask)\n",
    "#     return  masked_image\n",
    "\n"
   ]
  },
  {
   "cell_type": "code",
   "execution_count": 50,
   "id": "d1ba2716",
   "metadata": {
    "execution": {
     "iopub.execute_input": "2024-06-06T21:26:06.869502Z",
     "iopub.status.busy": "2024-06-06T21:26:06.868851Z",
     "iopub.status.idle": "2024-06-06T21:26:06.873785Z",
     "shell.execute_reply": "2024-06-06T21:26:06.872725Z"
    },
    "papermill": {
     "duration": 1.826915,
     "end_time": "2024-06-06T21:26:06.876082",
     "exception": false,
     "start_time": "2024-06-06T21:26:05.049167",
     "status": "completed"
    },
    "tags": []
   },
   "outputs": [],
   "source": [
    "# def preprocess_contours(binary_array):\n",
    "#     final_array = []\n",
    "#     for img in binary_array:\n",
    "#         integer_image = img.astype(np.uint8)\n",
    "\n",
    "#         scaled_image = integer_image * 255\n",
    "#         # i = detect_longest_connected_components(scaled_image)\n",
    "#         mask = mask_surrounding_area(scaled_image)\n",
    "#         final_array.append(scaled_image)\n",
    "#     return np.array(final_array)"
   ]
  },
  {
   "cell_type": "code",
   "execution_count": 51,
   "id": "a50d60a8",
   "metadata": {
    "execution": {
     "iopub.execute_input": "2024-06-06T21:26:10.540189Z",
     "iopub.status.busy": "2024-06-06T21:26:10.539376Z",
     "iopub.status.idle": "2024-06-06T21:26:10.546390Z",
     "shell.execute_reply": "2024-06-06T21:26:10.545380Z"
    },
    "papermill": {
     "duration": 1.848475,
     "end_time": "2024-06-06T21:26:10.548516",
     "exception": false,
     "start_time": "2024-06-06T21:26:08.700041",
     "status": "completed"
    },
    "tags": []
   },
   "outputs": [],
   "source": [
    "# import pickle\n",
    "# for i in range(1,6):\n",
    "#     with open(f'/kaggle/input/chinesemci-2/shot_{i}.pkl',mode='rb') as f:\n",
    "#         train = pickle.load(f)\n",
    "# #         print(train)\n",
    "#     if True:\n",
    "#                 test_scores = []\n",
    "#                 X_test = train[\"train\"][\"binary\"]\n",
    "#                 y_test = train[\"train\"][\"target\"]\n",
    "#                 output_images = []\n",
    "#                 for img in X_test:\n",
    "#                     # Convert image to uint8\n",
    "#                     img_uint8 = img.astype(np.uint8)\n",
    "#                     # Apply the function to each image\n",
    "#                     output_img = detect_longest_connected_components(img_uint8)\n",
    "#                     output_images.append(output_img)\n",
    "\n",
    "#                 output_images = np.array(output_images)\n",
    "# #                 print(output_images.shape)\n",
    "#                 masked_images = []\n",
    "#                 for img in output_images:\n",
    "#                     # Apply the function to each image\n",
    "#                     masked_img = mask_surrounding_area(img)\n",
    "#                     masked_images.append(masked_img)\n",
    "\n",
    "#                 masked_images = np.array(masked_images)\n",
    "#                 X_test = np.repeat(masked_images[..., np.newaxis], 3, axis=-1)\n",
    "# #                 print(y_test)\n",
    "# #                 y_test = update_labels(y_test)\n",
    "#                 pred = res_1.predict(X_test,verbose=0)\n",
    "#                 pred = pred.argmax(axis=-1)\n",
    "#                 test_scores.append(accuracy_score(y_test, pred))\n",
    "#                 pred = res_2.predict(X_test,verbose=0)\n",
    "#                 pred = pred.argmax(axis=-1)\n",
    "#                 test_scores.append(accuracy_score(y_test, pred))\n",
    "#                 pred = res_3.predict(X_test,verbose=0)\n",
    "#                 pred = pred.argmax(axis=-1)\n",
    "#                 test_scores.append(accuracy_score(y_test, pred))\n",
    "#                 pred = res_4.predict(X_test,verbose=0)\n",
    "#                 pred = pred.argmax(axis=-1)\n",
    "#                 test_scores.append(accuracy_score(y_test, pred))\n",
    "#                 pred = res_5.predict(X_test,verbose=0)\n",
    "#                 pred = pred.argmax(axis=-1)\n",
    "#                 test_scores.append(accuracy_score(y_test, pred))\n",
    "#                 print(np.mean(test_scores))\n",
    "#                 print(np.std(test_scores))"
   ]
  },
  {
   "cell_type": "code",
   "execution_count": 52,
   "id": "5e1f7a07",
   "metadata": {
    "execution": {
     "iopub.execute_input": "2024-06-06T21:26:14.153511Z",
     "iopub.status.busy": "2024-06-06T21:26:14.152583Z",
     "iopub.status.idle": "2024-06-06T21:26:14.158733Z",
     "shell.execute_reply": "2024-06-06T21:26:14.157795Z"
    },
    "papermill": {
     "duration": 1.829835,
     "end_time": "2024-06-06T21:26:14.160938",
     "exception": false,
     "start_time": "2024-06-06T21:26:12.331103",
     "status": "completed"
    },
    "tags": []
   },
   "outputs": [],
   "source": [
    "# import pickle\n",
    "# for i in range(1,6):\n",
    "#     with open(f'/kaggle/input/chinese-noise-corf/Chinese_DB_{i}.pkl',mode='rb') as f:\n",
    "#         train = pickle.load(f)\n",
    "# #         print(train)\n",
    "#     if True:\n",
    "#                 test_scores = []\n",
    "#                 X_test = train[\"test\"][\"data\"]\n",
    "#                 y_test = train[\"test\"][\"target\"]\n",
    "#                 pred = res_1.predict(X_test,verbose=0)\n",
    "#                 pred = pred.argmax(axis=-1)\n",
    "#                 test_scores.append(accuracy_score(y_test, pred))\n",
    "#                 pred = res_2.predict(X_test,verbose=0)\n",
    "#                 pred = pred.argmax(axis=-1)\n",
    "#                 test_scores.append(accuracy_score(y_test, pred))\n",
    "#                 pred = res_3.predict(X_test,verbose=0)\n",
    "#                 pred = pred.argmax(axis=-1)\n",
    "#                 test_scores.append(accuracy_score(y_test, pred))\n",
    "#                 pred = res_4.predict(X_test,verbose=0)\n",
    "#                 pred = pred.argmax(axis=-1)\n",
    "#                 test_scores.append(accuracy_score(y_test, pred))\n",
    "#                 pred = res_5.predict(X_test,verbose=0)\n",
    "#                 pred = pred.argmax(axis=-1)\n",
    "#                 test_scores.append(accuracy_score(y_test, pred))\n",
    "#                 print(np.mean(test_scores))\n",
    "#                 print(np.std(test_scores))"
   ]
  },
  {
   "cell_type": "code",
   "execution_count": 53,
   "id": "c7296da7",
   "metadata": {
    "execution": {
     "iopub.execute_input": "2024-06-06T21:26:17.781643Z",
     "iopub.status.busy": "2024-06-06T21:26:17.780727Z",
     "iopub.status.idle": "2024-06-06T21:26:17.786442Z",
     "shell.execute_reply": "2024-06-06T21:26:17.785370Z"
    },
    "papermill": {
     "duration": 1.819471,
     "end_time": "2024-06-06T21:26:17.788849",
     "exception": false,
     "start_time": "2024-06-06T21:26:15.969378",
     "status": "completed"
    },
    "tags": []
   },
   "outputs": [],
   "source": [
    "# import pickle\n",
    "# for i in range(1,6):\n",
    "#     with open(f'/kaggle/input/chinese-noise-corf/Chinese_MB_{i}.pkl',mode='rb') as f:\n",
    "#         train = pickle.load(f)\n",
    "# #         print(train)\n",
    "#     if True:\n",
    "#                 test_scores = []\n",
    "#                 X_test = train[\"test\"][\"data\"]\n",
    "#                 y_test = train[\"test\"][\"target\"]\n",
    "#                 pred = res_1.predict(X_test,verbose=0)\n",
    "#                 pred = pred.argmax(axis=-1)\n",
    "#                 test_scores.append(accuracy_score(y_test, pred))\n",
    "#                 pred = res_2.predict(X_test,verbose=0)\n",
    "#                 pred = pred.argmax(axis=-1)\n",
    "#                 test_scores.append(accuracy_score(y_test, pred))\n",
    "#                 pred = res_3.predict(X_test,verbose=0)\n",
    "#                 pred = pred.argmax(axis=-1)\n",
    "#                 test_scores.append(accuracy_score(y_test, pred))\n",
    "#                 pred = res_4.predict(X_test,verbose=0)\n",
    "#                 pred = pred.argmax(axis=-1)\n",
    "#                 test_scores.append(accuracy_score(y_test, pred))\n",
    "#                 pred = res_5.predict(X_test,verbose=0)\n",
    "#                 pred = pred.argmax(axis=-1)\n",
    "#                 test_scores.append(accuracy_score(y_test, pred))\n",
    "#                 print(np.mean(test_scores))\n",
    "#                 print(np.std(test_scores))"
   ]
  },
  {
   "cell_type": "code",
   "execution_count": 54,
   "id": "790dfb01",
   "metadata": {
    "execution": {
     "iopub.execute_input": "2024-06-06T21:26:21.406636Z",
     "iopub.status.busy": "2024-06-06T21:26:21.405901Z",
     "iopub.status.idle": "2024-06-06T21:26:21.413458Z",
     "shell.execute_reply": "2024-06-06T21:26:21.411794Z"
    },
    "papermill": {
     "duration": 1.826182,
     "end_time": "2024-06-06T21:26:21.416865",
     "exception": false,
     "start_time": "2024-06-06T21:26:19.590683",
     "status": "completed"
    },
    "tags": []
   },
   "outputs": [],
   "source": [
    "# import pickle\n",
    "# for i in range(1,6):\n",
    "#     with open(f'/kaggle/input/chinese-noise-corf/Chinese_shot_{i}.pkl',mode='rb') as f:\n",
    "#         train = pickle.load(f)\n",
    "# #         print(train)\n",
    "#     if True:\n",
    "#                 test_scores = []\n",
    "#                 X_test = train[\"test\"][\"data\"]\n",
    "#                 y_test = train[\"test\"][\"target\"]\n",
    "#                 pred = res_1.predict(X_test,verbose=0)\n",
    "#                 pred = pred.argmax(axis=-1)\n",
    "#                 test_scores.append(accuracy_score(y_test, pred))\n",
    "#                 pred = res_2.predict(X_test,verbose=0)\n",
    "#                 pred = pred.argmax(axis=-1)\n",
    "#                 test_scores.append(accuracy_score(y_test, pred))\n",
    "#                 pred = res_3.predict(X_test,verbose=0)\n",
    "#                 pred = pred.argmax(axis=-1)\n",
    "#                 test_scores.append(accuracy_score(y_test, pred))\n",
    "#                 pred = res_4.predict(X_test,verbose=0)\n",
    "#                 pred = pred.argmax(axis=-1)\n",
    "#                 test_scores.append(accuracy_score(y_test, pred))\n",
    "#                 pred = res_5.predict(X_test,verbose=0)\n",
    "#                 pred = pred.argmax(axis=-1)\n",
    "#                 test_scores.append(accuracy_score(y_test, pred))\n",
    "#                 print(np.mean(test_scores))\n",
    "#                 print(np.std(test_scores))"
   ]
  },
  {
   "cell_type": "code",
   "execution_count": 55,
   "id": "7e2545ee",
   "metadata": {
    "execution": {
     "iopub.execute_input": "2024-06-06T21:26:25.055180Z",
     "iopub.status.busy": "2024-06-06T21:26:25.054788Z",
     "iopub.status.idle": "2024-06-06T21:26:25.059319Z",
     "shell.execute_reply": "2024-06-06T21:26:25.058269Z"
    },
    "papermill": {
     "duration": 1.772571,
     "end_time": "2024-06-06T21:26:25.061803",
     "exception": false,
     "start_time": "2024-06-06T21:26:23.289232",
     "status": "completed"
    },
    "tags": []
   },
   "outputs": [],
   "source": [
    "# os.chdir(\"/kaggle/working\")"
   ]
  },
  {
   "cell_type": "code",
   "execution_count": 56,
   "id": "2f68ce11",
   "metadata": {
    "execution": {
     "iopub.execute_input": "2024-06-06T21:26:28.768394Z",
     "iopub.status.busy": "2024-06-06T21:26:28.768007Z",
     "iopub.status.idle": "2024-06-06T21:26:28.772614Z",
     "shell.execute_reply": "2024-06-06T21:26:28.771577Z"
    },
    "papermill": {
     "duration": 1.808968,
     "end_time": "2024-06-06T21:26:28.774807",
     "exception": false,
     "start_time": "2024-06-06T21:26:26.965839",
     "status": "completed"
    },
    "tags": []
   },
   "outputs": [],
   "source": [
    "# from IPython.display import FileLink\n",
    "# FileLink(\"Chinese_MB_CORF_1.h5\")"
   ]
  },
  {
   "cell_type": "code",
   "execution_count": 57,
   "id": "66d3ae18",
   "metadata": {
    "execution": {
     "iopub.execute_input": "2024-06-06T21:26:32.410850Z",
     "iopub.status.busy": "2024-06-06T21:26:32.409815Z",
     "iopub.status.idle": "2024-06-06T21:26:32.415864Z",
     "shell.execute_reply": "2024-06-06T21:26:32.414903Z"
    },
    "papermill": {
     "duration": 1.839138,
     "end_time": "2024-06-06T21:26:32.418107",
     "exception": false,
     "start_time": "2024-06-06T21:26:30.578969",
     "status": "completed"
    },
    "tags": []
   },
   "outputs": [],
   "source": [
    "# def add_noise(noise, severity, data_directory):\n",
    "#     images = []\n",
    "#     labels = []\n",
    "\n",
    "#     directories = [dir for dir in os.listdir(data_directory)\n",
    "#                    if os.path.isdir(os.path.join(data_directory, dir))]\n",
    "\n",
    "#     for dir in directories:\n",
    "#         current_directory = os.path.join(data_directory, dir)\n",
    "#         file_names = [os.path.join(current_directory, file)\n",
    "#                       for file in os.listdir(current_directory)\n",
    "#                       if file.endswith('.png')]\n",
    "\n",
    "#         for image in file_names:\n",
    "#             img = cv2.imread(image)\n",
    "\n",
    "#             # Step 1: Resize the image to 96x96\n",
    "#             image_fromarray = Image.fromarray(img, 'RGB')\n",
    "#             resize_image = image_fromarray.resize((96, 96))\n",
    "#             resize_image = np.array(resize_image)\n",
    "            \n",
    "#             # Step 2: Apply corruption\n",
    "#             corrupted_image = corrupt(resize_image, corruption_name=noise, severity=severity)\n",
    "            \n",
    "#             # Step 3: Resize the corrupted image to 224x224\n",
    "#             corrupted_image_fromarray = Image.fromarray(corrupted_image, 'RGB')\n",
    "#             final_resized_image = corrupted_image_fromarray.resize((224, 224))\n",
    "#             final_resized_image = np.array(final_resized_image)\n",
    "            \n",
    "#             images.append(final_resized_image)\n",
    "#             labels.append(int(dir))\n",
    "\n",
    "#     # print('Successfully Loaded {0} images!'.format(len(images)))\n",
    "#     return np.array(images) / 255, np.array(labels)\n",
    "\n",
    "\n",
    "# TEST_DATA_PATH = \"/kaggle/input/chinese-test/test/test\""
   ]
  },
  {
   "cell_type": "code",
   "execution_count": 58,
   "id": "6b8cb370",
   "metadata": {
    "execution": {
     "iopub.execute_input": "2024-06-06T21:26:36.097389Z",
     "iopub.status.busy": "2024-06-06T21:26:36.097003Z",
     "iopub.status.idle": "2024-06-06T21:26:36.103590Z",
     "shell.execute_reply": "2024-06-06T21:26:36.102503Z"
    },
    "papermill": {
     "duration": 1.850403,
     "end_time": "2024-06-06T21:26:36.105771",
     "exception": false,
     "start_time": "2024-06-06T21:26:34.255368",
     "status": "completed"
    },
    "tags": []
   },
   "outputs": [],
   "source": [
    "# for noise in noises :\n",
    "#     print(noise)\n",
    "#     for i in range(1,6):\n",
    "#             X_test,y_test = add_noise(noise,i,TEST_DATA_PATH)\n",
    "#             class_to_delete = 54\n",
    "\n",
    "#                 # Find indices of elements to delete\n",
    "#             indices_to_delete = np.where(y_test == class_to_delete)[0]\n",
    "\n",
    "#                 # Delete corresponding elements from X_test and y_test\n",
    "#             X_test = np.delete(X_test, indices_to_delete, axis=0)\n",
    "#             y_test = np.delete(y_test, indices_to_delete)\n",
    "#             num_classes = 57\n",
    "#             new_labels = []\n",
    "#             mapping = {}\n",
    "# #                 print(y_test.shape)\n",
    "#             for label in np.unique(y_test):\n",
    "#                     if label < 54:\n",
    "#                         new_labels.append(label)\n",
    "#                     elif label > 54:\n",
    "#                         new_labels.append(label - 1)\n",
    "#                     mapping[label] = new_labels[-1]\n",
    "\n",
    "#                 # Update labels in y_train using the mapping\n",
    "#             y_test = np.array([mapping[label] for label in y_test])\n",
    "#             test_scores = []\n",
    "\n",
    "\n",
    "# #             X_test,y_test = add_noise(j,i,data_directory )\n",
    "# #             print(i)\n",
    "#             pred = res_1.predict(X_test,verbose=0)\n",
    "#             pred = pred.argmax(axis=-1)\n",
    "#             test_scores.append(accuracy_score(y_test, pred))\n",
    "#             pred = res_2.predict(X_test,verbose=0)\n",
    "#             pred = pred.argmax(axis=-1)\n",
    "#             test_scores.append(accuracy_score(y_test, pred))\n",
    "# #             print(test_scores)\n",
    "#             pred = res_3.predict(X_test,verbose=0)\n",
    "#             pred = pred.argmax(axis=-1)\n",
    "#             test_scores.append(accuracy_score(y_test, pred))\n",
    "# #             print(test_scores)\n",
    "#             pred = res_4.predict(X_test,verbose=0)\n",
    "#             pred = pred.argmax(axis=-1)\n",
    "#             test_scores.append(accuracy_score(y_test, pred))\n",
    "# #             print(test_scores)\n",
    "#             pred = res_5.predict(X_test,verbose=0)\n",
    "#             pred = pred.argmax(axis=-1)\n",
    "#             test_scores.append(accuracy_score(y_test, pred))\n",
    "# #             print(test_scores)\n",
    "#             print(np.mean(test_scores))\n",
    "#             print(np.std(test_scores))\n",
    "#             del test_scores\n",
    "            \n"
   ]
  },
  {
   "cell_type": "code",
   "execution_count": null,
   "id": "fd22d2e8",
   "metadata": {
    "papermill": {
     "duration": 1.798212,
     "end_time": "2024-06-06T21:26:39.710381",
     "exception": false,
     "start_time": "2024-06-06T21:26:37.912169",
     "status": "completed"
    },
    "tags": []
   },
   "outputs": [],
   "source": []
  }
 ],
 "metadata": {
  "kaggle": {
   "accelerator": "gpu",
   "dataSources": [
    {
     "datasetId": 3722568,
     "sourceId": 6448386,
     "sourceType": "datasetVersion"
    },
    {
     "datasetId": 5076704,
     "sourceId": 8505688,
     "sourceType": "datasetVersion"
    }
   ],
   "dockerImageVersionId": 30461,
   "isGpuEnabled": true,
   "isInternetEnabled": true,
   "language": "python",
   "sourceType": "notebook"
  },
  "kernelspec": {
   "display_name": "Python 3",
   "language": "python",
   "name": "python3"
  },
  "language_info": {
   "codemirror_mode": {
    "name": "ipython",
    "version": 3
   },
   "file_extension": ".py",
   "mimetype": "text/x-python",
   "name": "python",
   "nbconvert_exporter": "python",
   "pygments_lexer": "ipython3",
   "version": "3.7.12"
  },
  "papermill": {
   "default_parameters": {},
   "duration": 2329.018629,
   "end_time": "2024-06-06T21:26:44.637616",
   "environment_variables": {},
   "exception": null,
   "input_path": "__notebook__.ipynb",
   "output_path": "__notebook__.ipynb",
   "parameters": {},
   "start_time": "2024-06-06T20:47:55.618987",
   "version": "2.4.0"
  }
 },
 "nbformat": 4,
 "nbformat_minor": 5
}
